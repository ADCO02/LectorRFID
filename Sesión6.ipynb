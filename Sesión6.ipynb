{
  "cells": [
    {
      "cell_type": "markdown",
      "metadata": {
        "id": "X9Le0T2l5E4h"
      },
      "source": [
        "# Sesión 6: ficheros y recursividad"
      ]
    },
    {
      "cell_type": "markdown",
      "metadata": {
        "id": "XQmQii-e5E4j"
      },
      "source": [
        "##  Ficheros\n",
        "Aunque se volverá a tratar el tema de ficheros al usar Numpy y Pandas, hablamos brevemente de ficheros en Python. La documentación adecuada es [el tutorial de Python](https://docs.python.org/3/tutorial/inputoutput.html#reading-and-writing-files).\n",
        "\n",
        "Modos de apertura de un fichero:\n",
        "  - 'r': lectura\n",
        "  - 'w': escritura (borra el contenido anterior)\n",
        "  - 'a': añade al final\n",
        "\n"
      ]
    },
    {
      "cell_type": "markdown",
      "metadata": {
        "id": "ioAa9IDb5E4k"
      },
      "source": [
        "Estamos acostumbrados a tratar ficheros de un modo similar.\n",
        "En la Sección 7.2 del tutorial está todo lo que necesitamos por el momento.\n",
        "Usamos: open, close, read, readline, write."
      ]
    },
    {
      "cell_type": "code",
      "execution_count": null,
      "metadata": {
        "scrolled": true,
        "id": "5h8H6vfQ5E4k"
      },
      "outputs": [],
      "source": [
        "f = open('mifich.txt','a')\n",
        "f.write('hola')\n",
        "f.close()\n"
      ]
    },
    {
      "cell_type": "code",
      "execution_count": null,
      "metadata": {
        "scrolled": true,
        "id": "nJ_qzYEC5E4l",
        "outputId": "291ebcf4-a244-4a25-89df-0a6e7cf09ca9"
      },
      "outputs": [
        {
          "data": {
            "text/plain": [
              "'Habia una vez un barquito chiqui\\nque no podia, que no podia\\nnavegar.holahola'"
            ]
          },
          "execution_count": 1,
          "metadata": {},
          "output_type": "execute_result"
        }
      ],
      "source": [
        "#Obtenemos una estructura\n",
        "#modo lectura por defecto, por lo que podemos quitar 'r'\n",
        "#Sin argumento size (opcional) proporciona el contenido completo del fichero\n",
        "f=open('mifich.txt','r')\n",
        "d = f.read()\n",
        "d"
      ]
    },
    {
      "cell_type": "code",
      "execution_count": null,
      "metadata": {
        "scrolled": true,
        "id": "nF1dNk445E4m"
      },
      "outputs": [],
      "source": [
        "f.close()"
      ]
    },
    {
      "cell_type": "code",
      "execution_count": null,
      "metadata": {
        "scrolled": true,
        "id": "oqxhE54D5E4n",
        "outputId": "8f450756-d968-43d7-bf4f-659e0bae78c3"
      },
      "outputs": [
        {
          "name": "stdout",
          "output_type": "stream",
          "text": [
            "Habia una vez un barquito chiqui\n",
            "\n"
          ]
        },
        {
          "data": {
            "text/plain": [
              "'que no podia, que no podia\\n'"
            ]
          },
          "execution_count": 3,
          "metadata": {},
          "output_type": "execute_result"
        }
      ],
      "source": [
        "#Para tratar por líneas un fichero de texto se usa readline\n",
        "f=open('mifich.txt')\n",
        "#La forma más cómoda de tratarlo por líneas\n",
        "print(f.readline())\n",
        "f.readline()\n"
      ]
    },
    {
      "cell_type": "code",
      "execution_count": null,
      "metadata": {
        "scrolled": true,
        "id": "5P2dixAU5E4o",
        "outputId": "9a58f760-751b-4b4d-a2f2-00225378c0db"
      },
      "outputs": [
        {
          "data": {
            "text/plain": [
              "'navegar.holahola'"
            ]
          },
          "execution_count": 7,
          "metadata": {},
          "output_type": "execute_result"
        }
      ],
      "source": [
        "f.readline()"
      ]
    },
    {
      "cell_type": "code",
      "execution_count": null,
      "metadata": {
        "scrolled": true,
        "id": "TFCwlLYN5E4o",
        "outputId": "0cffa444-99c5-4ddd-e6ae-98c00ad665d9"
      },
      "outputs": [
        {
          "data": {
            "text/plain": [
              "''"
            ]
          },
          "execution_count": 8,
          "metadata": {},
          "output_type": "execute_result"
        }
      ],
      "source": [
        "#Una lectura tras el final de fichero resulta la secuencia vacía\n",
        "f.readline()"
      ]
    },
    {
      "cell_type": "code",
      "execution_count": null,
      "metadata": {
        "scrolled": true,
        "id": "kjoidlk_5E4o",
        "outputId": "10e12c36-ceb7-4e9e-b55e-66d988950f57"
      },
      "outputs": [
        {
          "name": "stdout",
          "output_type": "stream",
          "text": [
            "Habia una vez un barquito chiqui\n",
            " que no podia, que no podia\n",
            " navegar.holahola "
          ]
        }
      ],
      "source": [
        "#Aprovechando que open devuelve un objeto file (iterable)\n",
        "f.close()\n",
        "f=open('mifich.txt')\n",
        "for line in f:\n",
        "  print(line,end=' ')"
      ]
    },
    {
      "cell_type": "markdown",
      "metadata": {
        "id": "zoa9CUwa5E4p"
      },
      "source": [
        "Con ``list(f)`` o f``.readlines()`` se obtiene la lista de líneas de ``f``."
      ]
    },
    {
      "cell_type": "markdown",
      "metadata": {
        "id": "kt532V8L5E4p"
      },
      "source": [
        "##### Forma recomendada para el tratamiento en Python"
      ]
    },
    {
      "cell_type": "code",
      "execution_count": null,
      "metadata": {
        "scrolled": true,
        "id": "L7siBFBo5E4p"
      },
      "outputs": [],
      "source": [
        "#Estaba abierto\n",
        "f.close()\n",
        "#La estructura with hace que el fichero se cierre incluso si hay problemas (excepciones)\n",
        "with open('mifich.txt') as f:\n",
        "  d = f.read()\n",
        "  for line in d:\n",
        "      print(line,end=' ')"
      ]
    },
    {
      "cell_type": "code",
      "execution_count": null,
      "metadata": {
        "scrolled": true,
        "id": "TeQzJqNH5E4p"
      },
      "outputs": [],
      "source": [
        "with open('mifich.txt') as f:\n",
        "    d = f.readlines()\n",
        "print(d)"
      ]
    },
    {
      "cell_type": "code",
      "execution_count": null,
      "metadata": {
        "scrolled": true,
        "id": "3MZwGYss5E4q"
      },
      "outputs": [],
      "source": [
        "#Resulta muy útil para el manejo por líneas usar enumerate\n",
        "with open('mifich.txt') as f:\n",
        "    for idx, linea in enumerate(f):\n",
        "        print(f'{idx}: {linea.strip()}')\n"
      ]
    },
    {
      "cell_type": "code",
      "execution_count": null,
      "metadata": {
        "scrolled": true,
        "id": "E71uwGk95E4q"
      },
      "outputs": [],
      "source": [
        "linea.split('v')"
      ]
    },
    {
      "cell_type": "code",
      "execution_count": null,
      "metadata": {
        "scrolled": true,
        "id": "MKdYxDJA5E4q"
      },
      "outputs": [],
      "source": [
        "linea"
      ]
    },
    {
      "cell_type": "code",
      "execution_count": null,
      "metadata": {
        "scrolled": true,
        "id": "iPxpZrdf5E4q"
      },
      "outputs": [],
      "source": [
        "linea.split('o')"
      ]
    },
    {
      "cell_type": "code",
      "execution_count": null,
      "metadata": {
        "scrolled": true,
        "id": "MNd19gBV5E4q"
      },
      "outputs": [],
      "source": [
        "palabras = linea.split()"
      ]
    },
    {
      "cell_type": "code",
      "execution_count": null,
      "metadata": {
        "scrolled": true,
        "id": "pECeDQfE5E4q"
      },
      "outputs": [],
      "source": [
        "palabras"
      ]
    },
    {
      "cell_type": "code",
      "execution_count": null,
      "metadata": {
        "scrolled": true,
        "id": "xIzjSw6M5E4q"
      },
      "outputs": [],
      "source": [
        "s=' '.join(palabras)\n",
        "s"
      ]
    },
    {
      "cell_type": "markdown",
      "source": [
        "## Recursividad\n",
        "\n",
        "La recursividad o recursión es un concepto que proviene de las matemáticas, y que aplicado al mundo de la programación nos permite resolver problemas o tareas donde las mismas pueden ser divididas en subtareas cuya funcionalidad es la misma. Dado que los subproblemas a resolver son de la misma naturaleza, se puede usar la misma función para resolverlos. Dicho de otra manera, una función recursiva es aquella que está definida en función de sí misma, por lo que se llama repetidamente a sí misma hasta llegar a un punto de salida.\n",
        "\n",
        "Cualquier función recursiva tiene dos secciones de código claramente divididas:\n",
        "\n",
        "- Por un lado tenemos la sección en la que la función se llama a sí misma.\n",
        "- Por otro lado, tiene que existir siempre una condición en la que la función retorna sin volver a llamarse. Es muy importante porque de lo contrario, la función se llamaría de manera indefinida"
      ],
      "metadata": {
        "id": "MBDXmyZGEuCd"
      }
    },
    {
      "cell_type": "markdown",
      "source": [
        "### Factorial\n",
        "\n",
        "Uno de los ejemplos mas usados para entender la recursividad, es el cálculo del factorial de un número n!. El factorial de un número n se define como la multiplicación de todos sus números predecesores hasta llegar a uno. Por lo tanto $5!$, leído como cinco factorial, sería $5\\times 4\\times 3\\times 2\\times 1$. Es decir, $5!$ es igual a $5 \\times 4!$ y $4!$ es igual a $4 \\times 3!$ y así sucesivamente hasta llegar a 1."
      ],
      "metadata": {
        "id": "yI4xriDXFC1P"
      }
    },
    {
      "cell_type": "code",
      "source": [
        "def factorial_normal(n):\n",
        "    r = 1\n",
        "    i = 2\n",
        "    while i <= n:\n",
        "        r *= i\n",
        "        i += 1\n",
        "    return r\n",
        "\n",
        "factorial_normal(5)"
      ],
      "metadata": {
        "id": "psoMezYYFV_d",
        "outputId": "23e9efd2-1c94-4eb0-9dc0-7724b1930ea7",
        "colab": {
          "base_uri": "https://localhost:8080/"
        }
      },
      "execution_count": null,
      "outputs": [
        {
          "output_type": "execute_result",
          "data": {
            "text/plain": [
              "120"
            ]
          },
          "metadata": {},
          "execution_count": 1
        }
      ]
    },
    {
      "cell_type": "code",
      "source": [
        "def factorial_recursivo(n):\n",
        "    if n == 1:\n",
        "        return 1\n",
        "    else:\n",
        "        return n * factorial_recursivo(n-1)\n",
        "\n",
        "factorial_recursivo(5)"
      ],
      "metadata": {
        "id": "MVpl7RglFXRU",
        "outputId": "0279f6e5-3246-4729-cb6f-0dcbc7b16e42",
        "colab": {
          "base_uri": "https://localhost:8080/"
        }
      },
      "execution_count": null,
      "outputs": [
        {
          "output_type": "execute_result",
          "data": {
            "text/plain": [
              "120"
            ]
          },
          "metadata": {},
          "execution_count": 2
        }
      ]
    },
    {
      "cell_type": "code",
      "source": [
        "%timeit factorial_normal(5)"
      ],
      "metadata": {
        "id": "S2XzbPNfFqBD",
        "outputId": "4212ab32-872f-4fde-9791-8d2734ef40d8",
        "colab": {
          "base_uri": "https://localhost:8080/"
        }
      },
      "execution_count": null,
      "outputs": [
        {
          "output_type": "stream",
          "name": "stdout",
          "text": [
            "201 ns ± 6.38 ns per loop (mean ± std. dev. of 7 runs, 1000000 loops each)\n"
          ]
        }
      ]
    },
    {
      "cell_type": "code",
      "source": [
        "%timeit factorial_recursivo(5)"
      ],
      "metadata": {
        "id": "D_UjHlsoFxSy",
        "outputId": "476dec78-3a19-4590-9e5b-55a21695fe8c",
        "colab": {
          "base_uri": "https://localhost:8080/"
        }
      },
      "execution_count": null,
      "outputs": [
        {
          "output_type": "stream",
          "name": "stdout",
          "text": [
            "310 ns ± 16.4 ns per loop (mean ± std. dev. of 7 runs, 1000000 loops each)\n"
          ]
        }
      ]
    },
    {
      "cell_type": "markdown",
      "source": [
        "### Hojas de listas anidadas (ejemplo extraído de [Real Python](https://realpython.com/python-recursion/))\n",
        "\n",
        "Suponer que disponemos de la siguiente lista anidada en Python:\n",
        "\n",
        "```python\n",
        "names = [\n",
        "    \"Adam\",\n",
        "    [\n",
        "        \"Bob\",\n",
        "        [\n",
        "            \"Chet\",\n",
        "            \"Cat\",\n",
        "        ],\n",
        "        \"Barb\",\n",
        "        \"Bert\"\n",
        "    ],\n",
        "    \"Alex\",\n",
        "    [\n",
        "        \"Bea\",\n",
        "        \"Bill\"\n",
        "    ],\n",
        "    \"Ann\"\n",
        "]\n",
        "```\n",
        "\n",
        "Que puede representarse mediante:\n",
        "![lista anidada](https://realpython.com/cdn-cgi/image/width=946,format=auto/https://files.realpython.com/media/jsturtz-nested-list.20eb8fe32366.png)\n",
        "\n",
        "Si ahora queremos contar el número de nodos hoja en esta lista, lo podemos hacer de manera recursiva:\n",
        "1. Avanzamos en cada elemento de la lista y lo examinamos.\n",
        "2. Si encontramos un nodo hoja, entonces lo añadimos al contador.\n",
        "3. Si se encuentra una sublista, entonces contamos los nodos hoja para esa sublista."
      ],
      "metadata": {
        "id": "30PAFDu6GTEo"
      }
    },
    {
      "cell_type": "code",
      "source": [
        "def cuenta_recursivo(lista):\n",
        "  if(len(lista)==0):\n",
        "    return 0\n",
        "  else:\n",
        "    if(isinstance(lista[0],list)):\n",
        "      return cuenta_recursivo(lista[0]) + cuenta_recursivo(lista[1:])\n",
        "    else:\n",
        "      return 1 + cuenta_recursivo(lista[1:])"
      ],
      "metadata": {
        "id": "oc5Js2hUHf87"
      },
      "execution_count": null,
      "outputs": []
    },
    {
      "cell_type": "code",
      "source": [
        "def cuenta_no_recursivo(item_list):\n",
        "    count = 0\n",
        "    stack = []\n",
        "    current_list = item_list\n",
        "    i = 0\n",
        "\n",
        "    while True:\n",
        "        if i == len(current_list):\n",
        "            if current_list == item_list:\n",
        "                return count\n",
        "            else:\n",
        "                current_list, i = stack.pop()\n",
        "                i += 1\n",
        "                continue\n",
        "\n",
        "        if isinstance(current_list[i], list):\n",
        "            stack.append([current_list, i])\n",
        "            current_list = current_list[i]\n",
        "            i = 0\n",
        "        else:\n",
        "            count += 1\n",
        "            i += 1"
      ],
      "metadata": {
        "id": "U2zn9xpBH-ag"
      },
      "execution_count": null,
      "outputs": []
    },
    {
      "cell_type": "markdown",
      "source": [
        "# Ejercicios"
      ],
      "metadata": {
        "id": "SndRoIHm86KT"
      }
    },
    {
      "cell_type": "markdown",
      "source": [
        "**Ejercicio:**\n",
        "1. Crear un fichero de texto con el contenido que quieras, darle mombre Pru.txt.\n",
        "2. Leer el contenido del fichero y convertir las lineas a notación [CamelCase](https://es.wikipedia.org/wiki/Camel_case).\n",
        "3. Leer el contenido del fichero y convertir las lineas a notación [snake_case](https://es.wikipedia.org/wiki/Snake_case).\n",
        "4. Generar los ficheros PruCamelCase.txt y Pru_snake_case.txt"
      ],
      "metadata": {
        "id": "0jVm_fu688p7"
      }
    },
    {
      "cell_type": "code",
      "source": [
        "f = open('Pru.txt','w')\n",
        "f.write('Hola que tal')\n",
        "f.close()\n",
        "\n",
        "def to_camel(s):\n",
        "  return \"\".join([x.capitalize() for x in s.split(' ')])\n",
        "\n",
        "def to_snake(s):\n",
        "  return \"_\".join([x[0].lower() + x[1:] if x else x for x in s.split(' ')])\n",
        "\n",
        "f = open('Pru.txt','r')\n",
        "d = f.read()\n",
        "\n",
        "f1 = open('PruCamelCase.txt','w')\n",
        "f1.write(to_camel(d))\n",
        "f1.close()\n",
        "\n",
        "f2 = open('Pru_snake_case.txt','w')\n",
        "f2.write(to_snake(d))"
      ],
      "metadata": {
        "id": "K6hiA8nQ85VE",
        "colab": {
          "base_uri": "https://localhost:8080/"
        },
        "outputId": "a83cf992-ef08-4e21-aa52-b484dcd00a6d"
      },
      "execution_count": 7,
      "outputs": [
        {
          "output_type": "execute_result",
          "data": {
            "text/plain": [
              "12"
            ]
          },
          "metadata": {},
          "execution_count": 7
        }
      ]
    },
    {
      "cell_type": "markdown",
      "source": [
        "**Ejercicio:**\n",
        "Crea un fichero “produccion.txt” que se supone contiene datos de las producciones diarias de una fábrica de zapatillas (en un periodo de tiempo que no viene al caso). Elige el formato que consideres más adecuado. A partir de dicho fichero:\n",
        "- Define una función que, desde el nombre de un fichero con ese formato, calcule una lista con las 10 mejores producciones diarias. Puedes hacerlo a pelo o, para que sea más eficiente desde el punto de vista de la memoria, usando solo una lista de tamaño 10, que se vaya actualizando conforme se van tratando los datos del fichero.\n",
        "- Define una función que, desde el nombre de un fichero con ese formato, decida si existe algún día en el que la producción superó el doble de la media.\n",
        "\n"
      ],
      "metadata": {
        "id": "7Fjp5A4n9ju5"
      }
    },
    {
      "cell_type": "code",
      "source": [
        "# Formato:  fecha,produccion\n",
        "#           2025-10-01,1500\n",
        "\n",
        "f = open('produccion.txt','w')\n",
        "f.write(\"\"\"fecha,produccion\n",
        "  2025-10-01,1500\n",
        "  2025-10-02,1475\n",
        "  2025-10-03,1600\n",
        "  2025-10-04,1520\n",
        "  2025-10-01,0\n",
        "  2025-10-02,1\n",
        "  2025-10-03,2\n",
        "  2025-10-04,3\n",
        "  2025-10-01,4\n",
        "  2025-10-02,5\n",
        "  2025-10-03,6\n",
        "  2025-10-04,7\n",
        "  2025-10-02,8\n",
        "  2025-10-03,9\n",
        "  2025-10-04,10\n",
        "  \"\"\")\n",
        "f.close()\n",
        "\n",
        "def top10_producciones(fich):\n",
        "  def lee_linea(x):\n",
        "    linea = x.readline()\n",
        "    eltos = linea.strip().split(',')\n",
        "    if(len(eltos) != 2):\n",
        "      return False, '', ''\n",
        "    return True, eltos[0], int(eltos[1])\n",
        "  f = open(fich, 'r')\n",
        "  f.readline() #la primera linea es la cabecera\n",
        "\n",
        "  lista = []\n",
        "  flag, fecha, prod = lee_linea(f)\n",
        "  while(flag):\n",
        "    if len(lista)<10:\n",
        "      lista.append({'fecha': fecha, 'prod': prod})\n",
        "    else:\n",
        "      if(lista[0]['prod']<prod):\n",
        "        del lista[0]\n",
        "        lista.append({'fecha': fecha, 'prod': prod})\n",
        "    lista = sorted(lista, key=lambda r: r['prod'])\n",
        "    flag, fecha, prod = lee_linea(f)\n",
        "  return lista\n",
        "\n",
        "top10_producciones('produccion.txt')"
      ],
      "metadata": {
        "id": "sjuMWGeI90_U",
        "colab": {
          "base_uri": "https://localhost:8080/"
        },
        "outputId": "34f38086-2134-48ff-c7c8-5a2d6b7f3fbf"
      },
      "execution_count": 30,
      "outputs": [
        {
          "output_type": "execute_result",
          "data": {
            "text/plain": [
              "[{'fecha': '2025-10-02', 'prod': 5},\n",
              " {'fecha': '2025-10-03', 'prod': 6},\n",
              " {'fecha': '2025-10-04', 'prod': 7},\n",
              " {'fecha': '2025-10-02', 'prod': 8},\n",
              " {'fecha': '2025-10-03', 'prod': 9},\n",
              " {'fecha': '2025-10-04', 'prod': 10},\n",
              " {'fecha': '2025-10-02', 'prod': 1475},\n",
              " {'fecha': '2025-10-01', 'prod': 1500},\n",
              " {'fecha': '2025-10-04', 'prod': 1520},\n",
              " {'fecha': '2025-10-03', 'prod': 1600}]"
            ]
          },
          "metadata": {},
          "execution_count": 30
        }
      ]
    },
    {
      "cell_type": "code",
      "source": [
        "def supera_doble_media(nombre):\n",
        "  def lee_linea(x):\n",
        "    linea = x.readline()\n",
        "    eltos = linea.strip().split(',')\n",
        "    if(len(eltos) != 2):\n",
        "      return False, '', ''\n",
        "    return True, eltos[0], int(eltos[1])\n",
        "  f = open(nombre, 'r')\n",
        "  f.readline() #la primera linea es la cabecera\n",
        "\n",
        "  lista = []\n",
        "  flag, fecha, prod = lee_linea(f)\n",
        "  while flag:\n",
        "    lista.append({'fecha': fecha, 'prod': prod})\n",
        "    flag, fecha, prod = lee_linea(f)\n",
        "\n",
        "  media = sum([x['prod'] for x in lista]) / len(lista)\n",
        "\n",
        "  return [x for x in lista if x['prod']>2*media]\n",
        "\n",
        "\n",
        "supera_doble_media('produccion.txt')"
      ],
      "metadata": {
        "id": "SzpA1YZF-Iku",
        "colab": {
          "base_uri": "https://localhost:8080/"
        },
        "outputId": "463cd174-be48-4e86-d07a-55f2f596f932"
      },
      "execution_count": 35,
      "outputs": [
        {
          "output_type": "execute_result",
          "data": {
            "text/plain": [
              "[{'fecha': '2025-10-01', 'prod': 1500},\n",
              " {'fecha': '2025-10-02', 'prod': 1475},\n",
              " {'fecha': '2025-10-03', 'prod': 1600},\n",
              " {'fecha': '2025-10-04', 'prod': 1520}]"
            ]
          },
          "metadata": {},
          "execution_count": 35
        }
      ]
    },
    {
      "cell_type": "markdown",
      "source": [
        "**Ejercicio**: Usamos la representación habitual de un grafo mediante un diccionario (vértice, lista de vértices adyacentes).\n",
        "- Define una función que, dado un grafo G y un conjunto de vértices S, calcula todos los vértices de G alcanzables desde vértices de S.\n",
        "- Define una función que, dados dos grafos, decida si el primero es subgrafo del segundo."
      ],
      "metadata": {
        "id": "FM8UxrGO92Cm"
      }
    },
    {
      "cell_type": "code",
      "source": [
        "grafo = {'A': ['C', 'B'], 'C': [], 'B': ['C','D'], 'D':['E','F'], 'E':['A'],'F':['G'],'G':['C']}\n",
        "\n",
        "def vertices_alcanzables(grafo, s):\n",
        "  l = set(s)\n",
        "  for x in s:\n",
        "    l.add(x)\n",
        "    l = l | set(grafo[x])\n",
        "  if(l == set(s)):\n",
        "    return s\n",
        "  else:\n",
        "    return vertices_alcanzables(grafo,list(l))\n",
        "\n",
        "vertices_alcanzables(grafo, ['F'])\n",
        ""
      ],
      "metadata": {
        "id": "-hgKGt9X-HhB",
        "colab": {
          "base_uri": "https://localhost:8080/"
        },
        "outputId": "9f39186c-ef5c-44c0-a6d3-c31c558549dc"
      },
      "execution_count": 49,
      "outputs": [
        {
          "output_type": "execute_result",
          "data": {
            "text/plain": [
              "['G', 'C', 'F']"
            ]
          },
          "metadata": {},
          "execution_count": 49
        }
      ]
    },
    {
      "cell_type": "code",
      "source": [
        "g1 = {'A': ['C', 'B'], 'C': [], 'B': ['C','D'], 'D':['E','F'], 'E':['A'],'F':['G'],'G':['C']}\n",
        "g2 = {'B': ['C','D'], 'D':['E','F'], 'E':[],'F':['G'],'G':['C']}\n",
        "g3 = {'A': ['C', 'B', 'F']}\n",
        "\n",
        "\n",
        "def es_subgrafo(g1,g2):\n",
        "  for x in g1:\n",
        "    if(x not in g2):\n",
        "      return False\n",
        "    for y in g1[x]:\n",
        "      if(y not in g2[x]):\n",
        "        return False\n",
        "  return True\n",
        "\n",
        "print(es_subgrafo(g2,g1))\n",
        "print(es_subgrafo(g3,g1))"
      ],
      "metadata": {
        "id": "sgMZJJ0G-JC1",
        "colab": {
          "base_uri": "https://localhost:8080/"
        },
        "outputId": "2ab26aa6-71e8-4c18-b472-da4df0a0edbf"
      },
      "execution_count": 51,
      "outputs": [
        {
          "output_type": "stream",
          "name": "stdout",
          "text": [
            "True\n",
            "False\n"
          ]
        }
      ]
    },
    {
      "cell_type": "markdown",
      "source": [
        "**Ejercicio**: Desarrollar ``borrarUno`` que elimina todas las apariciones de un\n",
        "dato en una lista. A partir de dicha función crear una función ``borrarMuchos``, que elimina de una lista todos los elementos que aparecen en una lista. Se pide implementar ``borrarMuchos`` de tres formas: usando un bucle ``for``, usando ``filter`` y usando recursividad."
      ],
      "metadata": {
        "id": "2VzS88HI-KHN"
      }
    },
    {
      "cell_type": "code",
      "source": [
        "def borrarUno(lista, dato):\n",
        "  return [x for x in lista if x !=dato]\n",
        "\n",
        "borrarUno([1,2,1,2,1,2],1)\n",
        "\n",
        "def borrarMuchos1(l1, l2):\n",
        "  for x in l2:\n",
        "    l1 = borrarUno(l1,x)\n",
        "  return l1\n",
        "\n",
        "print(borrarMuchos1([1,2,1,2,1,2,3,3,4],[1,3]))\n",
        "\n",
        "def borrarMuchos2(l1,l2):\n",
        "  return list(filter(lambda x: x not in l2,l1))\n",
        "\n",
        "print(borrarMuchos2([1,2,1,2,1,2,3,3,4],[1,3]))\n",
        "\n",
        "def borrarMuchos3(l1,l2):\n",
        "  if(len(l2)==0):\n",
        "    return l1\n",
        "  else:\n",
        "    return borrarMuchos3(borrarUno(l1,l2[0]),l2[1:])\n",
        "\n",
        "print(borrarMuchos3([1,2,1,2,1,2,3,3,4],[1,3]))"
      ],
      "metadata": {
        "id": "LzzvOvD6-h54",
        "colab": {
          "base_uri": "https://localhost:8080/"
        },
        "outputId": "087182a0-d72a-46cc-d642-4fded4a6cc94"
      },
      "execution_count": 63,
      "outputs": [
        {
          "output_type": "stream",
          "name": "stdout",
          "text": [
            "[2, 2, 2, 4]\n",
            "[2, 2, 2, 4]\n",
            "[2, 2, 2, 4]\n"
          ]
        }
      ]
    },
    {
      "cell_type": "markdown",
      "source": [
        "**Ejercicio**: trabajamos sobre matrices representadas como listas de listas. Construye una función para obtener la lista de pares que corresponden a entradas no nulas de una matriz. Hazlo mediante listas por comprensión, con bucles \"normales\" y con recursividad."
      ],
      "metadata": {
        "id": "g90gqJIa-v6K"
      }
    },
    {
      "cell_type": "code",
      "source": [
        "m = [[1,2,3],[4,5,None],[None,8,9]]\n",
        "\n",
        "def lista_no_nulos1(m):\n",
        "  return [(i, j) for i, fila in enumerate(m) for j, val in enumerate(fila) if val is not None]\n",
        "\n",
        "print(lista_no_nulos1(m))\n",
        "\n",
        "def lista_no_nulos2(m):\n",
        "  lista = []\n",
        "  for i in range(len(m)):\n",
        "    for j in range(len(m[i])):\n",
        "      if(m[i][j] is not None):\n",
        "        lista.append((i,j))\n",
        "  return lista\n",
        "\n",
        "print(lista_no_nulos2(m))\n",
        "\n",
        "def lista_no_nulos2(m):\n",
        "  lista = []\n",
        "  for i in range(len(m)):\n",
        "    for j in range(len(m[i])):\n",
        "      if(m[i][j] is not None):\n",
        "        lista.append((i,j))\n",
        "  return lista\n",
        "\n",
        "print(lista_no_nulos2(m))"
      ],
      "metadata": {
        "id": "7Se6SOkr-9g9",
        "colab": {
          "base_uri": "https://localhost:8080/"
        },
        "outputId": "398159a9-9d8e-4fa8-fd5c-abce111f266d"
      },
      "execution_count": 71,
      "outputs": [
        {
          "output_type": "stream",
          "name": "stdout",
          "text": [
            "[(0, 0), (0, 1), (0, 2), (1, 0), (1, 1), (2, 1), (2, 2)]\n",
            "[(0, 0), (0, 1), (0, 2), (1, 0), (1, 1), (2, 1), (2, 2)]\n"
          ]
        }
      ]
    },
    {
      "cell_type": "markdown",
      "source": [
        "# Entrega\n",
        "\n",
        "Recuerda guardar este notebook en tu repositorio de GitHub."
      ],
      "metadata": {
        "id": "CkPWIxH5_Xfn"
      }
    }
  ],
  "metadata": {
    "celltoolbar": "Raw Cell Format",
    "kernelspec": {
      "display_name": "Python 3 (ipykernel)",
      "language": "python",
      "name": "python3"
    },
    "language_info": {
      "codemirror_mode": {
        "name": "ipython",
        "version": 3
      },
      "file_extension": ".py",
      "mimetype": "text/x-python",
      "name": "python",
      "nbconvert_exporter": "python",
      "pygments_lexer": "ipython3",
      "version": "3.8.10"
    },
    "colab": {
      "provenance": []
    }
  },
  "nbformat": 4,
  "nbformat_minor": 0
}