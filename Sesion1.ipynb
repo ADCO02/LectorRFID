{
  "cells": [
    {
      "cell_type": "markdown",
      "metadata": {
        "id": "view-in-github",
        "colab_type": "text"
      },
      "source": [
        "<a href=\"https://colab.research.google.com/github/ADCO02/LectorRFID/blob/main/Sesion1.ipynb\" target=\"_parent\"><img src=\"https://colab.research.google.com/assets/colab-badge.svg\" alt=\"Open In Colab\"/></a>"
      ]
    },
    {
      "cell_type": "markdown",
      "metadata": {
        "id": "FfX4G4UOoCD4"
      },
      "source": [
        "# Sesión 1: Algunos tipos de datos básicos\n",
        "\n",
        "Conviene ojear el [apartado 3.1 en el tutorial de Python](https://docs.python.org/3/tutorial/introduction.html#using-python-as-a-calculator).\n",
        "\n",
        "\n",
        "\n",
        "En el libro \"[Python for Data Analysis](https://wesmckinney.com/book/)\" se encuentra en los capítulos 2 y 3."
      ]
    },
    {
      "cell_type": "markdown",
      "metadata": {
        "id": "zrHpB6uIWjxi"
      },
      "source": [
        "## Trabajando con Python\n",
        "\n",
        "Existen distintos modos de trabajar con Python."
      ]
    },
    {
      "cell_type": "markdown",
      "metadata": {
        "id": "gBjneCscWjxk"
      },
      "source": [
        "### Modo interactivo\n",
        "\n",
        "- Línea de comandos interactiva (intérprete).\n",
        "- Código no se guarda.\n",
        "- Sirve para hacer pruebas rápidas.\n",
        "- Uso (entorno [REPL](https://en.wikipedia.org/wiki/Read%E2%80%93eval%E2%80%93print_loop)):\n",
        "    - Arrancar el interprete ``> python``.\n",
        "    - Escribir expresión.\n",
        "    - Evaluar expresión.\n",
        "    - Intérprete escribe resultado."
      ]
    },
    {
      "cell_type": "code",
      "source": [
        "!pip install colab-xterm -q\n",
        "%load_ext colabxterm\n",
        "%xterm"
      ],
      "metadata": {
        "id": "_T3qt_TfxNYX"
      },
      "execution_count": null,
      "outputs": []
    },
    {
      "cell_type": "markdown",
      "metadata": {
        "id": "ZlgI6mIcWjxo"
      },
      "source": [
        "### Guiones\n",
        "\n",
        "Guiones son ficheros de texto que permiten guardar nuestros programas Python.\n",
        "- Crear fichero de texto (guión) con extensión ``.py``.\n",
        "- Uso:\n",
        "    - Crear guión.\n",
        "    - Ejecutar guión."
      ]
    },
    {
      "cell_type": "code",
      "source": [
        "%xterm"
      ],
      "metadata": {
        "id": "mi4TBawoxVwv"
      },
      "execution_count": null,
      "outputs": []
    },
    {
      "cell_type": "markdown",
      "metadata": {
        "id": "1QYV0GKtWjxs"
      },
      "source": [
        "### Notebooks de Jupyter\n",
        "\n",
        "- Combina guiones con modo interactivo.\n",
        "- Se intercalan explicaciones con código.\n",
        "- Se pueden exportar los programas para usarlos como guiones."
      ]
    },
    {
      "cell_type": "code",
      "metadata": {
        "id": "G9xv0-6eWjxv"
      },
      "source": [
        "3+2"
      ],
      "execution_count": null,
      "outputs": []
    },
    {
      "cell_type": "markdown",
      "metadata": {
        "id": "D85CL4hxWjx4"
      },
      "source": [
        "## Diferencias de Python con otros lenguajes\n",
        "\n",
        "- No se usan delimitadores (llaves ``{}``).\n",
        "- Se usa indentación $\\rightarrow$ Espacios en blanco son significativos."
      ]
    },
    {
      "cell_type": "code",
      "metadata": {
        "id": "MIh5mY8bWjx7"
      },
      "source": [
        "def signo(x):\n",
        "    if x < 0:\n",
        "        return \"negativo\"\n",
        "    elif x > 0:\n",
        "        return \"positivo\"\n",
        "    else:\n",
        "        return \"0\""
      ],
      "execution_count": null,
      "outputs": []
    },
    {
      "cell_type": "code",
      "source": [
        "signo(5)"
      ],
      "metadata": {
        "id": "oJJo0zTRYLG2"
      },
      "execution_count": null,
      "outputs": []
    },
    {
      "cell_type": "markdown",
      "metadata": {
        "id": "TSQ0afCOWjyD"
      },
      "source": [
        "- Tipado dinámico:\n",
        "    - No se dan tipos de variables, el sistema los infiere.\n",
        "    - No es necesario indicar el tipo devuelto por las funciones, o el de sus parámetros."
      ]
    },
    {
      "cell_type": "code",
      "metadata": {
        "id": "nbm8paY0WjyF"
      },
      "source": [
        "a = 3\n",
        "a = 'hola'"
      ],
      "execution_count": null,
      "outputs": []
    },
    {
      "cell_type": "code",
      "source": [
        "a"
      ],
      "metadata": {
        "id": "CNhD-Lb4Ycce"
      },
      "execution_count": null,
      "outputs": []
    },
    {
      "cell_type": "markdown",
      "metadata": {
        "id": "p9SSFTpxWjyN"
      },
      "source": [
        "- Tipado dinámico vs tipado estático:\n",
        "    - No se declaran tipos, Python se encarga de gestionarlos.\n",
        "    - Gestión dinámica, puede cambiar el tipo de las variables.\n",
        "- Interpretado vs compilado:\n",
        "    - Compilación código fuente a código máquina:\n",
        "        - Ejecución más rápida.\n",
        "        - Proceso de compilación puede llevar más tiempo.\n",
        "    - Interpretado:\n",
        "        - Código fuente se transforma a bytecode (lenguaje intermedio).\n",
        "        - Facilita multiplataforma.\n",
        "        - Código es más lento."
      ]
    },
    {
      "cell_type": "markdown",
      "metadata": {
        "id": "VBHFOeRGWjyO"
      },
      "source": [
        "## Entornos de programación\n",
        "\n",
        "Existen distintos IDEs:\n",
        "\n",
        "- [Idle](https://docs.python.org/2/library/idle.html).\n",
        "- [Spyder](https://pythonhosted.org/spyder/).\n",
        "- [IPython](https://ipython.org/) + [Jupyter](http://jupyter.org/) + [Colab](https://colab.research.google.com/).\n",
        "- [Pydev](http://www.pydev.org/).\n",
        "- [PyCharm](https://www.jetbrains.com/pycharm/).\n",
        "- [NBDev](https://github.com/fastai/nbdev).\n"
      ]
    },
    {
      "cell_type": "markdown",
      "metadata": {
        "id": "hKaWebIjoCD_"
      },
      "source": [
        "### Comenzamos con números y booleanos"
      ]
    },
    {
      "cell_type": "code",
      "execution_count": null,
      "metadata": {
        "scrolled": true,
        "id": "JMnmSh4yoCD_"
      },
      "outputs": [],
      "source": [
        "4/7"
      ]
    },
    {
      "cell_type": "code",
      "execution_count": null,
      "metadata": {
        "jupyter": {
          "outputs_hidden": true
        },
        "scrolled": true,
        "id": "A4zwFX3JoCEB"
      },
      "outputs": [],
      "source": [
        "4//6"
      ]
    },
    {
      "cell_type": "code",
      "execution_count": null,
      "metadata": {
        "jupyter": {
          "outputs_hidden": true
        },
        "scrolled": true,
        "id": "1ntqAe__oCEB"
      },
      "outputs": [],
      "source": [
        "10 % 3 +7-57"
      ]
    },
    {
      "cell_type": "code",
      "execution_count": null,
      "metadata": {
        "jupyter": {
          "outputs_hidden": true
        },
        "scrolled": true,
        "id": "osMeknwKoCEB"
      },
      "outputs": [],
      "source": [
        "3.4*7.3"
      ]
    },
    {
      "cell_type": "code",
      "execution_count": null,
      "metadata": {
        "jupyter": {
          "outputs_hidden": true
        },
        "scrolled": true,
        "id": "FGiCbvFwoCEC"
      },
      "outputs": [],
      "source": [
        "3**4"
      ]
    },
    {
      "cell_type": "code",
      "execution_count": null,
      "metadata": {
        "scrolled": true,
        "id": "UcmYMbu2oCEC"
      },
      "outputs": [],
      "source": [
        "2**300"
      ]
    },
    {
      "cell_type": "code",
      "execution_count": null,
      "metadata": {
        "scrolled": true,
        "id": "xKB-QiuwoCED"
      },
      "outputs": [],
      "source": [
        "pow(3.4,2)"
      ]
    },
    {
      "cell_type": "code",
      "execution_count": null,
      "metadata": {
        "id": "FGrO3b9poCED"
      },
      "outputs": [],
      "source": [
        "3.4**2"
      ]
    },
    {
      "cell_type": "code",
      "execution_count": null,
      "metadata": {
        "id": "wTIRh_jSoCED"
      },
      "outputs": [],
      "source": [
        "# Una primera aproximación a la idea de contexto (namespace) y el primer comentario.\n",
        "dir()"
      ]
    },
    {
      "cell_type": "code",
      "execution_count": null,
      "metadata": {
        "id": "fdmPTv3RoCEE"
      },
      "outputs": [],
      "source": [
        "__doc__"
      ]
    },
    {
      "cell_type": "code",
      "execution_count": null,
      "metadata": {
        "id": "5VNXnMuyoCEE"
      },
      "outputs": [],
      "source": [
        "__name__"
      ]
    },
    {
      "cell_type": "code",
      "execution_count": null,
      "metadata": {
        "id": "_BbEE1S0oCEE"
      },
      "outputs": [],
      "source": [
        "_i1\n"
      ]
    },
    {
      "cell_type": "code",
      "execution_count": null,
      "metadata": {
        "id": "qqr8MWzRoCEE"
      },
      "outputs": [],
      "source": [
        "_oh"
      ]
    },
    {
      "cell_type": "markdown",
      "metadata": {
        "id": "6qDI0KWDoCEE"
      },
      "source": [
        "Los booleanos y los operadores relacionales funcionan como se espera."
      ]
    },
    {
      "cell_type": "code",
      "execution_count": null,
      "metadata": {
        "jupyter": {
          "outputs_hidden": true
        },
        "scrolled": true,
        "id": "jVLFyZWUoCEE"
      },
      "outputs": [],
      "source": [
        "#Las constantes booleanas comienzan por mayúscula\n",
        "#Por cierto, la primera variable/referencia de nuestro curso\n",
        "x=True\n",
        "x and (5>7)"
      ]
    },
    {
      "cell_type": "code",
      "execution_count": null,
      "metadata": {
        "jupyter": {
          "outputs_hidden": true
        },
        "scrolled": true,
        "id": "0IJtZzWuoCEE"
      },
      "outputs": [],
      "source": [
        "x or not False"
      ]
    },
    {
      "cell_type": "code",
      "execution_count": null,
      "metadata": {
        "id": "bBwU_qufoCEE"
      },
      "outputs": [],
      "source": [
        "#Ahora, el nombre 'x' pertenece al contexto\n",
        "dir()"
      ]
    },
    {
      "cell_type": "code",
      "execution_count": null,
      "metadata": {
        "id": "_-dIU07qoCEF"
      },
      "outputs": [],
      "source": [
        "del x\n",
        "dir()\n",
        "#Ahora no"
      ]
    },
    {
      "cell_type": "code",
      "execution_count": null,
      "metadata": {
        "jupyter": {
          "outputs_hidden": true
        },
        "scrolled": true,
        "id": "1a5yYv0SoCEF"
      },
      "outputs": [],
      "source": [
        "5>=7"
      ]
    },
    {
      "cell_type": "code",
      "execution_count": null,
      "metadata": {
        "jupyter": {
          "outputs_hidden": true
        },
        "scrolled": true,
        "id": "zuOBygJUoCEF"
      },
      "outputs": [],
      "source": [
        "5 < 7"
      ]
    },
    {
      "cell_type": "markdown",
      "metadata": {
        "id": "O8qnxhYsoCEF"
      },
      "source": [
        "Lo siguiente es novedoso, asociatividad de operadores"
      ]
    },
    {
      "cell_type": "code",
      "execution_count": null,
      "metadata": {
        "jupyter": {
          "outputs_hidden": true
        },
        "scrolled": true,
        "id": "ycE-GFupoCEF"
      },
      "outputs": [],
      "source": [
        "3<5>2"
      ]
    },
    {
      "cell_type": "code",
      "execution_count": null,
      "metadata": {
        "jupyter": {
          "outputs_hidden": true
        },
        "scrolled": true,
        "id": "JNvShEh1oCEF"
      },
      "outputs": [],
      "source": [
        "1!=(5<7)"
      ]
    },
    {
      "cell_type": "code",
      "source": [
        "(3!=5)<7"
      ],
      "metadata": {
        "id": "SyoYBOK4qG84"
      },
      "execution_count": null,
      "outputs": []
    },
    {
      "cell_type": "code",
      "source": [
        "3==3>0"
      ],
      "metadata": {
        "id": "zIY_FPylqNAn"
      },
      "execution_count": null,
      "outputs": []
    },
    {
      "cell_type": "code",
      "source": [
        "True<=0"
      ],
      "metadata": {
        "id": "kVE1qZAjqOdQ"
      },
      "execution_count": null,
      "outputs": []
    },
    {
      "cell_type": "code",
      "execution_count": null,
      "metadata": {
        "jupyter": {
          "outputs_hidden": true
        },
        "id": "viKKR71eoCEF"
      },
      "outputs": [],
      "source": [
        "# Hace conversiones de tipos en expresiones\n",
        "x=True\n",
        "x<5"
      ]
    },
    {
      "cell_type": "markdown",
      "metadata": {
        "id": "kiqX4Ue6oCEG"
      },
      "source": [
        "Todo tiene tipo y todo puede verse como objeto perteneciente a una clase."
      ]
    },
    {
      "cell_type": "code",
      "execution_count": null,
      "metadata": {
        "scrolled": true,
        "id": "HnfBWS7XoCEG"
      },
      "outputs": [],
      "source": [
        "type(1<4)"
      ]
    },
    {
      "cell_type": "code",
      "execution_count": null,
      "metadata": {
        "scrolled": true,
        "id": "poUlOaWnoCEG"
      },
      "outputs": [],
      "source": [
        "x = 1"
      ]
    },
    {
      "cell_type": "code",
      "execution_count": null,
      "metadata": {
        "id": "N1QwbivAoCEG"
      },
      "outputs": [],
      "source": [
        "type(x)"
      ]
    },
    {
      "cell_type": "code",
      "execution_count": null,
      "metadata": {
        "id": "CTGmlfH2oCEG"
      },
      "outputs": [],
      "source": [
        "x=7\n",
        "\n",
        "x=True\n",
        "help(x)\n",
        "\n",
        "# x.__gt__(4)\n",
        "# x.__add__(4)"
      ]
    },
    {
      "cell_type": "code",
      "execution_count": null,
      "metadata": {
        "id": "b0SdVsIXoCEH"
      },
      "outputs": [],
      "source": [
        "x?\n",
        "# x=5\n",
        "# x.numerator"
      ]
    },
    {
      "cell_type": "code",
      "execution_count": null,
      "metadata": {
        "jupyter": {
          "outputs_hidden": true
        },
        "scrolled": true,
        "id": "AEjLSDAAoCEH"
      },
      "outputs": [],
      "source": [
        "dir(x)"
      ]
    },
    {
      "cell_type": "code",
      "execution_count": null,
      "metadata": {
        "jupyter": {
          "outputs_hidden": true
        },
        "id": "1NNTaQsXoCEH"
      },
      "outputs": [],
      "source": [
        "x=3265\n",
        "#Número de dígitos binarios\n",
        "x.bit_length()"
      ]
    },
    {
      "cell_type": "code",
      "execution_count": null,
      "metadata": {
        "jupyter": {
          "outputs_hidden": true
        },
        "scrolled": true,
        "id": "80LO1bIPoCEH"
      },
      "outputs": [],
      "source": [
        "type (x<5)"
      ]
    },
    {
      "cell_type": "code",
      "execution_count": null,
      "metadata": {
        "jupyter": {
          "outputs_hidden": true
        },
        "scrolled": true,
        "id": "4eO_7MUuoCEH"
      },
      "outputs": [],
      "source": [
        "dir(x<5)\n"
      ]
    },
    {
      "cell_type": "code",
      "execution_count": null,
      "metadata": {
        "jupyter": {
          "outputs_hidden": true
        },
        "scrolled": true,
        "id": "iZNmKVp-oCEH"
      },
      "outputs": [],
      "source": [
        "x==10"
      ]
    },
    {
      "cell_type": "code",
      "execution_count": null,
      "metadata": {
        "jupyter": {
          "outputs_hidden": true
        },
        "scrolled": true,
        "id": "bJHmnqXuoCEI"
      },
      "outputs": [],
      "source": [
        "x!=9"
      ]
    },
    {
      "cell_type": "code",
      "execution_count": null,
      "metadata": {
        "jupyter": {
          "outputs_hidden": true
        },
        "scrolled": true,
        "id": "T28NryNmoCEI"
      },
      "outputs": [],
      "source": [
        "10 == '10'"
      ]
    },
    {
      "cell_type": "code",
      "execution_count": null,
      "metadata": {
        "jupyter": {
          "outputs_hidden": true
        },
        "scrolled": true,
        "id": "DpqdlDzKoCEJ"
      },
      "outputs": [],
      "source": [
        "str(10)=='10'"
      ]
    },
    {
      "cell_type": "markdown",
      "source": [
        "La siguiente celda nos da pista sobre errores manejando coma flotante"
      ],
      "metadata": {
        "id": "YqLtgNsqqgFG"
      }
    },
    {
      "cell_type": "code",
      "execution_count": null,
      "metadata": {
        "jupyter": {
          "outputs_hidden": true
        },
        "scrolled": true,
        "id": "JfBBW8cpoCEJ"
      },
      "outputs": [],
      "source": [
        "abs(0.3 - (0.1 + 0.2)) < 1e-17"
      ]
    },
    {
      "cell_type": "code",
      "execution_count": null,
      "metadata": {
        "jupyter": {
          "outputs_hidden": true
        },
        "scrolled": true,
        "id": "ysOl-e6LoCEJ"
      },
      "outputs": [],
      "source": [
        "abs(0.3 - (0.1 + 0.2)) < 1e-16"
      ]
    },
    {
      "cell_type": "code",
      "execution_count": null,
      "metadata": {
        "jupyter": {
          "outputs_hidden": true
        },
        "scrolled": true,
        "id": "bGAtJNxqoCEJ"
      },
      "outputs": [],
      "source": [
        "0.3 - 0.1"
      ]
    },
    {
      "cell_type": "markdown",
      "metadata": {
        "id": "kBJDS56RoCEJ"
      },
      "source": [
        "Misma filosofía que los lenguajes habituales.\n",
        "Lo que no es cero (lista vacía, cadena vacía,fichero vacío,etc.), es cierto"
      ]
    },
    {
      "cell_type": "code",
      "execution_count": null,
      "metadata": {
        "jupyter": {
          "outputs_hidden": true
        },
        "scrolled": true,
        "id": "VlT-YUoMoCEK"
      },
      "outputs": [],
      "source": [
        "x==True\n",
        "not x"
      ]
    },
    {
      "cell_type": "code",
      "execution_count": null,
      "metadata": {
        "jupyter": {
          "outputs_hidden": true
        },
        "scrolled": true,
        "id": "XWdlYYrIoCEK"
      },
      "outputs": [],
      "source": [
        "not 3.4"
      ]
    },
    {
      "cell_type": "code",
      "execution_count": null,
      "metadata": {
        "id": "28HgiADKoCEK"
      },
      "outputs": [],
      "source": [
        "not 0."
      ]
    },
    {
      "cell_type": "markdown",
      "metadata": {
        "id": "D_tCdj0uoCEK"
      },
      "source": [
        "Tipado implícito.\n",
        "Podemos ver los operadores aplicables a un objeto."
      ]
    },
    {
      "cell_type": "code",
      "execution_count": null,
      "metadata": {
        "jupyter": {
          "outputs_hidden": true
        },
        "scrolled": true,
        "id": "q4BxnR_DoCEK"
      },
      "outputs": [],
      "source": [
        "t=4"
      ]
    },
    {
      "cell_type": "code",
      "execution_count": null,
      "metadata": {
        "jupyter": {
          "outputs_hidden": true
        },
        "id": "bQ2VMoT8oCEK"
      },
      "outputs": [],
      "source": [
        "dir(t)"
      ]
    },
    {
      "cell_type": "code",
      "execution_count": null,
      "metadata": {
        "jupyter": {
          "outputs_hidden": true
        },
        "scrolled": true,
        "id": "W-z95rAwoCEK"
      },
      "outputs": [],
      "source": [
        "dir(float(t))"
      ]
    },
    {
      "cell_type": "code",
      "execution_count": null,
      "metadata": {
        "jupyter": {
          "outputs_hidden": true
        },
        "scrolled": true,
        "id": "mCKnhHi-oCEK"
      },
      "outputs": [],
      "source": [
        "type(t)"
      ]
    },
    {
      "cell_type": "markdown",
      "metadata": {
        "id": "H4j1TRyToCEL"
      },
      "source": [
        "Hay números complejos"
      ]
    },
    {
      "cell_type": "code",
      "execution_count": null,
      "metadata": {
        "jupyter": {
          "outputs_hidden": true
        },
        "scrolled": true,
        "id": "KyCF5JxOoCEL"
      },
      "outputs": [],
      "source": [
        "c1=3+2.0j\n",
        "c2=3+8.0j\n",
        "c1+c2"
      ]
    },
    {
      "cell_type": "code",
      "execution_count": null,
      "metadata": {
        "jupyter": {
          "outputs_hidden": true
        },
        "scrolled": true,
        "id": "nA_aLcROoCEL"
      },
      "outputs": [],
      "source": [
        "dir (c1)"
      ]
    },
    {
      "cell_type": "code",
      "execution_count": null,
      "metadata": {
        "jupyter": {
          "outputs_hidden": true
        },
        "scrolled": true,
        "id": "cmiZL6k4oCEL"
      },
      "outputs": [],
      "source": [
        "c1.real"
      ]
    },
    {
      "cell_type": "code",
      "execution_count": null,
      "metadata": {
        "jupyter": {
          "outputs_hidden": true
        },
        "scrolled": true,
        "id": "jRuxWL9soCEL"
      },
      "outputs": [],
      "source": [
        "c1.conjugate()"
      ]
    },
    {
      "cell_type": "markdown",
      "metadata": {
        "id": "vKZWkI8moCEL"
      },
      "source": [
        "También se puede trabajar con fracciones, usando el módulo correspondiente.\n",
        "Notad que invocamos a un \"constructor\" de \"objetos Fracción\"."
      ]
    },
    {
      "cell_type": "code",
      "execution_count": null,
      "metadata": {
        "jupyter": {
          "outputs_hidden": true
        },
        "scrolled": true,
        "id": "qjX6pd7aoCEM"
      },
      "outputs": [],
      "source": [
        "from fractions import Fraction\n",
        "f=Fraction(3,4)+Fraction(1,4)\n",
        "#f\n",
        "print(f)"
      ]
    },
    {
      "cell_type": "code",
      "execution_count": null,
      "metadata": {
        "jupyter": {
          "outputs_hidden": true
        },
        "scrolled": true,
        "id": "eWaAYVo5oCEM"
      },
      "outputs": [],
      "source": [
        "g=Fraction(3,4)/Fraction(1,5)\n",
        "g==Fraction(30,8)\n",
        "Fraction(15,4)==Fraction(30,8)\n",
        "#print(g)"
      ]
    },
    {
      "cell_type": "code",
      "execution_count": null,
      "metadata": {
        "jupyter": {
          "outputs_hidden": true
        },
        "scrolled": true,
        "id": "yrm9L2HOoCEM"
      },
      "outputs": [],
      "source": [
        "dir(f)"
      ]
    },
    {
      "cell_type": "code",
      "execution_count": null,
      "metadata": {
        "id": "jsBnBUAwoCEM"
      },
      "outputs": [],
      "source": [
        "help(f.numerator)"
      ]
    },
    {
      "cell_type": "code",
      "execution_count": null,
      "metadata": {
        "id": "sZYi31i9oCEM"
      },
      "outputs": [],
      "source": [
        "f.numerator"
      ]
    },
    {
      "cell_type": "code",
      "execution_count": null,
      "metadata": {
        "jupyter": {
          "outputs_hidden": true
        },
        "scrolled": true,
        "id": "JIo1a_p8oCEM"
      },
      "outputs": [],
      "source": [
        "help(f.from_float)"
      ]
    },
    {
      "cell_type": "code",
      "execution_count": null,
      "metadata": {
        "jupyter": {
          "outputs_hidden": true
        },
        "scrolled": true,
        "id": "sKZqGm40oCEN"
      },
      "outputs": [],
      "source": [
        "g=Fraction.from_float(0.3)\n",
        "h=g.from_float(3.1)\n",
        "#print(g)\n",
        "#g\n",
        "#h\n",
        "help(Fraction.from_float)"
      ]
    },
    {
      "cell_type": "code",
      "execution_count": null,
      "metadata": {
        "jupyter": {
          "outputs_hidden": true
        },
        "id": "O0bWdZgxoCEN"
      },
      "outputs": [],
      "source": [
        "5404319552844595/18014398509481984"
      ]
    },
    {
      "cell_type": "markdown",
      "metadata": {
        "id": "WZBdh5hhoCEN"
      },
      "source": [
        "### Algunas cosas básicas sobre cadenas"
      ]
    },
    {
      "cell_type": "code",
      "execution_count": null,
      "metadata": {
        "jupyter": {
          "outputs_hidden": true
        },
        "scrolled": true,
        "id": "MQPXXkExoCEN"
      },
      "outputs": [],
      "source": [
        "cad = \"hola\"\n",
        "dir(cad)"
      ]
    },
    {
      "cell_type": "code",
      "execution_count": null,
      "metadata": {
        "jupyter": {
          "outputs_hidden": true
        },
        "scrolled": true,
        "id": "dIO4uHHooCEN"
      },
      "outputs": [],
      "source": [
        "cad\n",
        "# cad.__repr__()"
      ]
    },
    {
      "cell_type": "code",
      "execution_count": null,
      "metadata": {
        "jupyter": {
          "outputs_hidden": true
        },
        "scrolled": true,
        "id": "9oHzqpgtoCEN"
      },
      "outputs": [],
      "source": [
        "# Diferencia entre evaluar una cadena en el intérprete y usar la función print\n",
        "print(cad)"
      ]
    },
    {
      "cell_type": "markdown",
      "metadata": {
        "id": "Ef-Nbh4WoCEN"
      },
      "source": [
        "Operadores para tratar cadenas"
      ]
    },
    {
      "cell_type": "code",
      "execution_count": null,
      "metadata": {
        "jupyter": {
          "outputs_hidden": true
        },
        "scrolled": true,
        "id": "zRfeu6gFoCEO"
      },
      "outputs": [],
      "source": [
        "# dir(cad)\n",
        "#help(str.capitalize)\n",
        "\n",
        "# str.capitalize(cad)\n",
        "# print(cad.capitalize())\n",
        "# print(cad)"
      ]
    },
    {
      "cell_type": "markdown",
      "metadata": {
        "id": "kP7_RcVvoCEO"
      },
      "source": [
        "Lo exigido es abrir y cerrar con el mismo tipo de comillas, y las contrabarras son \"escapes\""
      ]
    },
    {
      "cell_type": "code",
      "execution_count": null,
      "metadata": {
        "jupyter": {
          "outputs_hidden": true
        },
        "scrolled": true,
        "id": "eJ2eNkuHoCEO"
      },
      "outputs": [],
      "source": [
        "print('hola \"hola\"')"
      ]
    },
    {
      "cell_type": "code",
      "execution_count": null,
      "metadata": {
        "jupyter": {
          "outputs_hidden": true
        },
        "scrolled": true,
        "id": "KRpBZW2WoCEO"
      },
      "outputs": [],
      "source": [
        "print(\"hola 'hola'\")"
      ]
    },
    {
      "cell_type": "code",
      "execution_count": null,
      "metadata": {
        "jupyter": {
          "outputs_hidden": true
        },
        "scrolled": true,
        "id": "qpCOkUIfoCEO"
      },
      "outputs": [],
      "source": [
        "cad = 'hola \\'Hola\\''"
      ]
    },
    {
      "cell_type": "code",
      "execution_count": null,
      "metadata": {
        "jupyter": {
          "outputs_hidden": true
        },
        "scrolled": true,
        "id": "XvXV6WLLoCEO"
      },
      "outputs": [],
      "source": [
        "print(cad)"
      ]
    },
    {
      "cell_type": "code",
      "execution_count": null,
      "metadata": {
        "jupyter": {
          "outputs_hidden": true
        },
        "scrolled": true,
        "id": "iF6aYMOkoCEP"
      },
      "outputs": [],
      "source": [
        "#Cadenas de varias lineas\n",
        "cad = \"\"\"Querida mama:\n",
        "\n",
        "\n",
        "espero que estés bien\"\"\""
      ]
    },
    {
      "cell_type": "code",
      "execution_count": null,
      "metadata": {
        "jupyter": {
          "outputs_hidden": true
        },
        "scrolled": true,
        "id": "K41Yst12oCEP"
      },
      "outputs": [],
      "source": [
        "cad"
      ]
    },
    {
      "cell_type": "code",
      "execution_count": null,
      "metadata": {
        "jupyter": {
          "outputs_hidden": true
        },
        "scrolled": true,
        "id": "w7iXg3zwoCEP"
      },
      "outputs": [],
      "source": [
        "print(cad)"
      ]
    },
    {
      "cell_type": "code",
      "execution_count": null,
      "metadata": {
        "jupyter": {
          "outputs_hidden": true
        },
        "scrolled": true,
        "id": "pR9IxsikoCEP"
      },
      "outputs": [],
      "source": [
        "#algunas funciones sobre cadenas (son funciones, es decir, calculan otras cadenas)\n",
        "#métodos de objeto frente a métodos de clase\n",
        "print(cad.upper())\n",
        "print(str.upper(cad))\n",
        "print(cad)"
      ]
    },
    {
      "cell_type": "markdown",
      "metadata": {
        "id": "kvSd6FP8oCEP"
      },
      "source": [
        "Son funciones:"
      ]
    },
    {
      "cell_type": "code",
      "execution_count": null,
      "metadata": {
        "jupyter": {
          "outputs_hidden": true
        },
        "id": "JWjArWGwoCEP"
      },
      "outputs": [],
      "source": [
        "help(str.upper)"
      ]
    },
    {
      "cell_type": "code",
      "execution_count": null,
      "metadata": {
        "jupyter": {
          "outputs_hidden": true
        },
        "id": "9oOBN4WhoCEP"
      },
      "outputs": [],
      "source": [
        "cad.upper()"
      ]
    },
    {
      "cell_type": "code",
      "execution_count": null,
      "metadata": {
        "jupyter": {
          "outputs_hidden": true
        },
        "id": "iW3IIlCdoCEQ"
      },
      "outputs": [],
      "source": [
        "print(cad)"
      ]
    },
    {
      "cell_type": "code",
      "execution_count": null,
      "metadata": {
        "jupyter": {
          "outputs_hidden": true
        },
        "scrolled": true,
        "id": "FzMm4rAPoCEQ"
      },
      "outputs": [],
      "source": [
        "cad.upper().center(500,'-')"
      ]
    },
    {
      "cell_type": "code",
      "execution_count": null,
      "metadata": {
        "jupyter": {
          "outputs_hidden": true
        },
        "scrolled": true,
        "id": "w-sifvCvoCEQ"
      },
      "outputs": [],
      "source": [
        "cad[0]"
      ]
    },
    {
      "cell_type": "code",
      "execution_count": null,
      "metadata": {
        "jupyter": {
          "outputs_hidden": true
        },
        "scrolled": true,
        "id": "ryFZQ572oCEQ"
      },
      "outputs": [],
      "source": [
        "cad[2]"
      ]
    },
    {
      "cell_type": "markdown",
      "metadata": {
        "id": "U-scvxnKoCEQ"
      },
      "source": [
        "LLegamos a una de las herramientas más potentes para trabajar con tipos secuencia,\n",
        "en particular con cadenas. Se trata de los slices."
      ]
    },
    {
      "cell_type": "code",
      "execution_count": null,
      "metadata": {
        "jupyter": {
          "outputs_hidden": true
        },
        "scrolled": true,
        "id": "K23bdkf1oCEQ"
      },
      "outputs": [],
      "source": [
        "cad[1:4]"
      ]
    },
    {
      "cell_type": "code",
      "execution_count": null,
      "metadata": {
        "jupyter": {
          "outputs_hidden": true
        },
        "scrolled": true,
        "id": "kSERPP5boCEQ"
      },
      "outputs": [],
      "source": [
        "cad\n"
      ]
    },
    {
      "cell_type": "code",
      "execution_count": null,
      "metadata": {
        "jupyter": {
          "outputs_hidden": true
        },
        "scrolled": true,
        "id": "AGd2u7NMoCEQ"
      },
      "outputs": [],
      "source": [
        "cad[-2] #-1 es la posición del último carácter"
      ]
    },
    {
      "cell_type": "code",
      "execution_count": null,
      "metadata": {
        "jupyter": {
          "outputs_hidden": true
        },
        "scrolled": true,
        "id": "vxDZvsEWoCER"
      },
      "outputs": [],
      "source": [
        "cad[len(cad)-2] #es equivalente"
      ]
    },
    {
      "cell_type": "markdown",
      "metadata": {
        "id": "AfRp3mu4oCER"
      },
      "source": [
        "Manejamos un poco más el tema, sacando conclusiones"
      ]
    },
    {
      "cell_type": "code",
      "execution_count": null,
      "metadata": {
        "jupyter": {
          "outputs_hidden": true
        },
        "scrolled": true,
        "id": "cLkqkUVkoCER"
      },
      "outputs": [],
      "source": [
        "cad[1:]  #desde la posición 1 hasta el final"
      ]
    },
    {
      "cell_type": "code",
      "execution_count": null,
      "metadata": {
        "jupyter": {
          "outputs_hidden": true
        },
        "scrolled": true,
        "id": "YEuSANQLoCER"
      },
      "outputs": [],
      "source": [
        "print(cad[:19] )  #Empieza en el 0, hasta la pos 18"
      ]
    },
    {
      "cell_type": "code",
      "execution_count": null,
      "metadata": {
        "jupyter": {
          "outputs_hidden": true
        },
        "scrolled": true,
        "id": "80P0KRdKoCER"
      },
      "outputs": [],
      "source": [
        "#La función len es básica para todos los tipos que sean secuencias\n",
        "len(cad)"
      ]
    },
    {
      "cell_type": "markdown",
      "metadata": {
        "id": "Eo4riO9DoCER"
      },
      "source": [
        "Importante!!, las cadenas son objetos inmutables"
      ]
    },
    {
      "cell_type": "code",
      "execution_count": null,
      "metadata": {
        "jupyter": {
          "outputs_hidden": true
        },
        "scrolled": true,
        "id": "FSNAhJkzoCES"
      },
      "outputs": [],
      "source": [
        "cad[3]='u'"
      ]
    },
    {
      "cell_type": "code",
      "execution_count": null,
      "metadata": {
        "jupyter": {
          "outputs_hidden": true
        },
        "scrolled": true,
        "id": "qpYZSYj_oCES"
      },
      "outputs": [],
      "source": [
        "cad.replace('a', 'A')"
      ]
    },
    {
      "cell_type": "code",
      "execution_count": null,
      "metadata": {
        "jupyter": {
          "outputs_hidden": true
        },
        "scrolled": true,
        "id": "Ly0rtYPDoCES"
      },
      "outputs": [],
      "source": [
        "cad"
      ]
    },
    {
      "cell_type": "code",
      "execution_count": null,
      "metadata": {
        "jupyter": {
          "outputs_hidden": true
        },
        "scrolled": true,
        "id": "AstpxneBoCES"
      },
      "outputs": [],
      "source": [
        "CAD=cad.upper()\n",
        "cad"
      ]
    },
    {
      "cell_type": "code",
      "execution_count": null,
      "metadata": {
        "jupyter": {
          "outputs_hidden": true
        },
        "scrolled": true,
        "id": "FucnRFpXoCES"
      },
      "outputs": [],
      "source": [
        "CAD"
      ]
    },
    {
      "cell_type": "code",
      "execution_count": null,
      "metadata": {
        "jupyter": {
          "outputs_hidden": true
        },
        "scrolled": true,
        "id": "5faqDLiooCET"
      },
      "outputs": [],
      "source": [
        "cad.find('ma') #posición en que empieza la subcadena buscada. Si no está devuelve un '-1'"
      ]
    },
    {
      "cell_type": "code",
      "execution_count": null,
      "metadata": {
        "jupyter": {
          "outputs_hidden": true
        },
        "scrolled": true,
        "id": "AsA2FXg4oCET"
      },
      "outputs": [],
      "source": [
        "cad.index('ma') #posición en que empieza la subcadena buscada. Si no está devuelve una excepción"
      ]
    },
    {
      "cell_type": "code",
      "execution_count": null,
      "metadata": {
        "jupyter": {
          "outputs_hidden": true
        },
        "scrolled": true,
        "id": "u66eVqOYoCET"
      },
      "outputs": [],
      "source": [
        "print(cad.center(50,'.'))"
      ]
    },
    {
      "cell_type": "code",
      "execution_count": null,
      "metadata": {
        "jupyter": {
          "outputs_hidden": true
        },
        "scrolled": true,
        "id": "f3G15RfYoCET"
      },
      "outputs": [],
      "source": [
        "help(cad.center)\n"
      ]
    },
    {
      "cell_type": "code",
      "execution_count": null,
      "metadata": {
        "jupyter": {
          "outputs_hidden": true
        },
        "scrolled": true,
        "id": "2FGXbFhSoCET"
      },
      "outputs": [],
      "source": [
        "?cad.center"
      ]
    },
    {
      "cell_type": "markdown",
      "metadata": {
        "id": "mnPTXEHuoCET"
      },
      "source": [
        "El operador de pertenencia a \"contenedores\""
      ]
    },
    {
      "cell_type": "code",
      "execution_count": null,
      "metadata": {
        "jupyter": {
          "outputs_hidden": true
        },
        "scrolled": true,
        "id": "lidGCpZDoCEU"
      },
      "outputs": [],
      "source": [
        "#'mama' in cad\n",
        "cad.__contains__('mama')"
      ]
    },
    {
      "cell_type": "code",
      "execution_count": null,
      "metadata": {
        "jupyter": {
          "outputs_hidden": true
        },
        "scrolled": true,
        "id": "SoZtKhvXoCEU"
      },
      "outputs": [],
      "source": [
        "'mama:' in cad"
      ]
    },
    {
      "cell_type": "code",
      "execution_count": null,
      "metadata": {
        "jupyter": {
          "outputs_hidden": true
        },
        "scrolled": true,
        "id": "Ut-2qtS_oCEU"
      },
      "outputs": [],
      "source": [
        "cad[3:90000:1] #Las rebanadas admiten un parámetro para fijar anchura de paso"
      ]
    },
    {
      "cell_type": "code",
      "execution_count": null,
      "metadata": {
        "jupyter": {
          "outputs_hidden": true
        },
        "scrolled": true,
        "id": "AkK01CDhoCEU"
      },
      "outputs": [],
      "source": [
        "cad[21:2:-3] #al revés"
      ]
    },
    {
      "cell_type": "code",
      "execution_count": null,
      "metadata": {
        "jupyter": {
          "outputs_hidden": true
        },
        "scrolled": true,
        "id": "wz5en3HUoCEV"
      },
      "outputs": [],
      "source": [
        "cad[::-1] #La inversa de una cadena"
      ]
    },
    {
      "cell_type": "markdown",
      "metadata": {
        "id": "WzsYKsPuoCEV"
      },
      "source": [
        "#### Formatear cadenas"
      ]
    },
    {
      "cell_type": "markdown",
      "metadata": {
        "id": "8HwCu3fgoCEV"
      },
      "source": [
        "Forma clásica"
      ]
    },
    {
      "cell_type": "code",
      "execution_count": null,
      "metadata": {
        "jupyter": {
          "outputs_hidden": true
        },
        "scrolled": true,
        "id": "h4IgxDKcoCEW"
      },
      "outputs": [],
      "source": [
        "nombre='Jonathan'\n",
        "'Hola %s' % (nombre)   #%d=entero; %f=float, se usaba en las primeras versiones de C y Fortran?"
      ]
    },
    {
      "cell_type": "code",
      "execution_count": null,
      "metadata": {
        "jupyter": {
          "outputs_hidden": true
        },
        "scrolled": true,
        "id": "ttQeCdXFoCEW"
      },
      "outputs": [],
      "source": [
        "'Vivo en el número %d, calle %s...' % (7, 'Melancolía')"
      ]
    },
    {
      "cell_type": "code",
      "execution_count": null,
      "metadata": {
        "jupyter": {
          "outputs_hidden": true
        },
        "scrolled": true,
        "id": "gAhe76wOoCEW"
      },
      "outputs": [],
      "source": [
        "plantilla='Vivo en el número %d calle %s' #idea de plantilla"
      ]
    },
    {
      "cell_type": "code",
      "execution_count": null,
      "metadata": {
        "jupyter": {
          "outputs_hidden": true
        },
        "scrolled": true,
        "id": "vM_Ke8-EoCEZ"
      },
      "outputs": [],
      "source": [
        "plantilla % (7, 'Melancolía')"
      ]
    },
    {
      "cell_type": "markdown",
      "metadata": {
        "id": "SfNF4VpfoCEZ"
      },
      "source": [
        "Una segunda forma"
      ]
    },
    {
      "cell_type": "code",
      "execution_count": null,
      "metadata": {
        "jupyter": {
          "outputs_hidden": true
        },
        "scrolled": true,
        "id": "CCv1in_toCEa"
      },
      "outputs": [],
      "source": [
        "plan_format = 'Hola {}'"
      ]
    },
    {
      "cell_type": "code",
      "execution_count": null,
      "metadata": {
        "jupyter": {
          "outputs_hidden": true
        },
        "scrolled": true,
        "id": "tTgN2-DMoCEa"
      },
      "outputs": [],
      "source": [
        "type(plan_format)\n"
      ]
    },
    {
      "cell_type": "code",
      "execution_count": null,
      "metadata": {
        "jupyter": {
          "outputs_hidden": true
        },
        "scrolled": true,
        "id": "m8mDCk9moCEb"
      },
      "outputs": [],
      "source": [
        "plan_format.format('Jonathan') #Método format. Entiende el formato por el dato que sustituye"
      ]
    },
    {
      "cell_type": "code",
      "execution_count": null,
      "metadata": {
        "jupyter": {
          "outputs_hidden": true
        },
        "scrolled": true,
        "id": "hYaularPoCEb"
      },
      "outputs": [],
      "source": [
        "plan_format.format(29)"
      ]
    },
    {
      "cell_type": "code",
      "execution_count": null,
      "metadata": {
        "jupyter": {
          "outputs_hidden": true
        },
        "scrolled": true,
        "id": "N8PhvM4qoCEb"
      },
      "outputs": [],
      "source": [
        "plan_format = 'Vivo en el número {}, calle {}'"
      ]
    },
    {
      "cell_type": "code",
      "execution_count": null,
      "metadata": {
        "jupyter": {
          "outputs_hidden": true
        },
        "scrolled": true,
        "id": "j3C1tjDSoCEb"
      },
      "outputs": [],
      "source": [
        "plan_format.format(7, 'Melancolía')"
      ]
    },
    {
      "cell_type": "code",
      "execution_count": null,
      "metadata": {
        "jupyter": {
          "outputs_hidden": true
        },
        "scrolled": true,
        "id": "N7DvWLE5oCEc"
      },
      "outputs": [],
      "source": [
        "\n",
        "plan_format = 'sumando {0} y {0} se obtiene {1}'"
      ]
    },
    {
      "cell_type": "code",
      "execution_count": null,
      "metadata": {
        "jupyter": {
          "outputs_hidden": true
        },
        "scrolled": true,
        "id": "Aa-EqXIPoCEc"
      },
      "outputs": [],
      "source": [
        "plan_format.format (4,8)"
      ]
    },
    {
      "cell_type": "markdown",
      "metadata": {
        "id": "8bmICPl9oCEc"
      },
      "source": [
        "Formateando con f-string"
      ]
    },
    {
      "cell_type": "code",
      "execution_count": null,
      "metadata": {
        "jupyter": {
          "outputs_hidden": true
        },
        "scrolled": true,
        "id": "xxvz-nU4oCEc"
      },
      "outputs": [],
      "source": [
        "numero = 7\n",
        "calle ='Melancolía'"
      ]
    },
    {
      "cell_type": "code",
      "execution_count": null,
      "metadata": {
        "jupyter": {
          "outputs_hidden": true
        },
        "scrolled": true,
        "id": "jjWV9MDeoCEc"
      },
      "outputs": [],
      "source": [
        "f'Vivo en en número {numero}, calle {calle}...'"
      ]
    },
    {
      "cell_type": "code",
      "execution_count": null,
      "metadata": {
        "jupyter": {
          "outputs_hidden": true
        },
        "scrolled": true,
        "id": "tf6C2WhVoCEc"
      },
      "outputs": [],
      "source": [
        "f'Vivo en en número {numero+5}, calle {calle.upper()}...'"
      ]
    },
    {
      "cell_type": "markdown",
      "metadata": {
        "id": "5aLCVp8voCEd"
      },
      "source": [
        "### Listas\n",
        "\n",
        "Las listas son objetos básicos en Python"
      ]
    },
    {
      "cell_type": "code",
      "execution_count": null,
      "metadata": {
        "jupyter": {
          "outputs_hidden": true
        },
        "scrolled": true,
        "id": "HM36a0OAoCEd"
      },
      "outputs": [],
      "source": [
        "#SON OBJETOS MUTABLES\n",
        "l=[10, 20, 30, 40, 50, 60]"
      ]
    },
    {
      "cell_type": "code",
      "execution_count": null,
      "metadata": {
        "jupyter": {
          "outputs_hidden": true
        },
        "scrolled": true,
        "id": "bNySbgKooCEd"
      },
      "outputs": [],
      "source": [
        "print(l)"
      ]
    },
    {
      "cell_type": "code",
      "execution_count": null,
      "metadata": {
        "jupyter": {
          "outputs_hidden": true
        },
        "scrolled": true,
        "id": "TcyDnomvoCEd"
      },
      "outputs": [],
      "source": [
        "l[0]"
      ]
    },
    {
      "cell_type": "code",
      "execution_count": null,
      "metadata": {
        "jupyter": {
          "outputs_hidden": true
        },
        "scrolled": true,
        "id": "yJXJc3WFoCEd"
      },
      "outputs": [],
      "source": [
        "type(l)"
      ]
    },
    {
      "cell_type": "code",
      "execution_count": null,
      "metadata": {
        "jupyter": {
          "outputs_hidden": true
        },
        "scrolled": true,
        "id": "gouYBKX3oCEe"
      },
      "outputs": [],
      "source": [
        "l[-1]"
      ]
    },
    {
      "cell_type": "code",
      "execution_count": null,
      "metadata": {
        "jupyter": {
          "outputs_hidden": true
        },
        "scrolled": true,
        "id": "TLu7id__oCEe"
      },
      "outputs": [],
      "source": [
        "l[1:3]"
      ]
    },
    {
      "cell_type": "code",
      "execution_count": null,
      "metadata": {
        "jupyter": {
          "outputs_hidden": true
        },
        "scrolled": true,
        "id": "3ISgDGxEoCEe"
      },
      "outputs": [],
      "source": [
        "l.index(20)"
      ]
    },
    {
      "cell_type": "code",
      "execution_count": null,
      "metadata": {
        "jupyter": {
          "outputs_hidden": true
        },
        "scrolled": true,
        "id": "HBF0ALMJoCEe"
      },
      "outputs": [],
      "source": [
        "l[0]= 0"
      ]
    },
    {
      "cell_type": "code",
      "execution_count": null,
      "metadata": {
        "jupyter": {
          "outputs_hidden": true
        },
        "scrolled": true,
        "id": "C4EDRaz0oCEe"
      },
      "outputs": [],
      "source": [
        "l[0]"
      ]
    },
    {
      "cell_type": "code",
      "execution_count": null,
      "metadata": {
        "jupyter": {
          "outputs_hidden": true
        },
        "scrolled": true,
        "id": "zwI5J6xfoCEe"
      },
      "outputs": [],
      "source": [
        "l"
      ]
    },
    {
      "cell_type": "code",
      "execution_count": null,
      "metadata": {
        "jupyter": {
          "outputs_hidden": true
        },
        "scrolled": true,
        "id": "dWdKmmsyoCEf"
      },
      "outputs": [],
      "source": [
        "#pertenencia\n",
        "40 in l"
      ]
    },
    {
      "cell_type": "code",
      "execution_count": null,
      "metadata": {
        "jupyter": {
          "outputs_hidden": true
        },
        "scrolled": true,
        "id": "U8zUeSPHoCEf"
      },
      "outputs": [],
      "source": [
        "#formateables con f-string\n",
        "f' La lista es {l}'"
      ]
    },
    {
      "cell_type": "code",
      "execution_count": null,
      "metadata": {
        "jupyter": {
          "outputs_hidden": true
        },
        "scrolled": true,
        "id": "E0rg5hVLoCEf"
      },
      "outputs": [],
      "source": [
        "#Operadores de listas\n",
        "dir(l)"
      ]
    },
    {
      "cell_type": "code",
      "execution_count": null,
      "metadata": {
        "jupyter": {
          "outputs_hidden": true
        },
        "scrolled": true,
        "id": "Iu8eAu9foCEf"
      },
      "outputs": [],
      "source": [
        "l.append(80)\n",
        "#ejecura varias veces esta celda. Observa que son métodos, no funciones"
      ]
    },
    {
      "cell_type": "code",
      "execution_count": null,
      "metadata": {
        "jupyter": {
          "outputs_hidden": true
        },
        "scrolled": true,
        "id": "B4H_A3kroCEf"
      },
      "outputs": [],
      "source": [
        "l"
      ]
    },
    {
      "cell_type": "code",
      "execution_count": null,
      "metadata": {
        "jupyter": {
          "outputs_hidden": true
        },
        "scrolled": true,
        "id": "CzfskHXSoCEg"
      },
      "outputs": [],
      "source": [
        "l.insert(0,300)  #(index, object) index en el que quieres insertar. Comienzan en el ídice 0."
      ]
    },
    {
      "cell_type": "code",
      "execution_count": null,
      "metadata": {
        "jupyter": {
          "outputs_hidden": true
        },
        "scrolled": true,
        "id": "Ru2r7PvdoCEg"
      },
      "outputs": [],
      "source": [
        "l"
      ]
    },
    {
      "cell_type": "code",
      "execution_count": null,
      "metadata": {
        "jupyter": {
          "outputs_hidden": true
        },
        "scrolled": true,
        "id": "KyQfxH_RoCEg"
      },
      "outputs": [],
      "source": [
        "l.insert(2, 400) #ocupará la posición 3 (o la 2 si decimos que empieza en 0)"
      ]
    },
    {
      "cell_type": "code",
      "execution_count": null,
      "metadata": {
        "jupyter": {
          "outputs_hidden": true
        },
        "scrolled": true,
        "id": "zU-_5YCUoCEg"
      },
      "outputs": [],
      "source": [
        "l"
      ]
    },
    {
      "cell_type": "code",
      "execution_count": null,
      "metadata": {
        "id": "zBkiptk5oCEg"
      },
      "outputs": [],
      "source": [
        "#Métodos de objeto (modificadores)\n",
        "print(l.insert(2, 400) )"
      ]
    },
    {
      "cell_type": "code",
      "execution_count": null,
      "metadata": {
        "jupyter": {
          "outputs_hidden": true
        },
        "scrolled": true,
        "id": "g_GHRbqQoCEh"
      },
      "outputs": [],
      "source": [
        "l.extend([0,1,2,3])"
      ]
    },
    {
      "cell_type": "code",
      "execution_count": null,
      "metadata": {
        "jupyter": {
          "outputs_hidden": true
        },
        "scrolled": true,
        "id": "QyQGxIUDoCEh"
      },
      "outputs": [],
      "source": [
        "l"
      ]
    },
    {
      "cell_type": "code",
      "execution_count": null,
      "metadata": {
        "jupyter": {
          "outputs_hidden": true
        },
        "scrolled": true,
        "id": "BtCWu9BBoCEh"
      },
      "outputs": [],
      "source": [
        "l.append([4,5,6]) #observar la diferencia"
      ]
    },
    {
      "cell_type": "code",
      "execution_count": null,
      "metadata": {
        "jupyter": {
          "outputs_hidden": true
        },
        "scrolled": true,
        "id": "AzrxLkfzoCEh"
      },
      "outputs": [],
      "source": [
        "l"
      ]
    },
    {
      "cell_type": "code",
      "execution_count": null,
      "metadata": {
        "jupyter": {
          "outputs_hidden": true
        },
        "scrolled": true,
        "id": "K-iANUcpoCEh"
      },
      "outputs": [],
      "source": [
        "#Como acabamos de ver, no tienen que ser homogéneas\n",
        "l=[1, \"pepe\", [10, 20, 30]]"
      ]
    },
    {
      "cell_type": "code",
      "execution_count": null,
      "metadata": {
        "jupyter": {
          "outputs_hidden": true
        },
        "scrolled": true,
        "id": "PB8EhAXpoCEi"
      },
      "outputs": [],
      "source": [
        "l"
      ]
    },
    {
      "cell_type": "code",
      "execution_count": null,
      "metadata": {
        "jupyter": {
          "outputs_hidden": true
        },
        "scrolled": true,
        "id": "vp4nw1n3oCEi"
      },
      "outputs": [],
      "source": [
        "l[2]"
      ]
    },
    {
      "cell_type": "code",
      "execution_count": null,
      "metadata": {
        "jupyter": {
          "outputs_hidden": true
        },
        "scrolled": true,
        "id": "wLVZqIBMoCEi"
      },
      "outputs": [],
      "source": [
        "l[1][2]"
      ]
    },
    {
      "cell_type": "code",
      "execution_count": null,
      "metadata": {
        "jupyter": {
          "outputs_hidden": true
        },
        "scrolled": true,
        "id": "dkd5aP7-oCEi"
      },
      "outputs": [],
      "source": [
        "l.remove(\"pepe\")  #elimina la primera aparición\n"
      ]
    },
    {
      "cell_type": "code",
      "execution_count": null,
      "metadata": {
        "jupyter": {
          "outputs_hidden": true
        },
        "scrolled": true,
        "id": "5YegAmoVoCEi"
      },
      "outputs": [],
      "source": [
        "l"
      ]
    },
    {
      "cell_type": "code",
      "execution_count": null,
      "metadata": {
        "jupyter": {
          "outputs_hidden": true
        },
        "scrolled": true,
        "id": "-_oC8Pw8oCEj"
      },
      "outputs": [],
      "source": [
        "# Concatenar. En la clase list se implementa __add__, lo que sobrecarga el operador +.\n",
        "l+list(\"paco\")"
      ]
    },
    {
      "cell_type": "code",
      "execution_count": null,
      "metadata": {
        "jupyter": {
          "outputs_hidden": true
        },
        "scrolled": true,
        "id": "mSgPbkdboCEj"
      },
      "outputs": [],
      "source": [
        "# Lo mismo con *\n",
        "2*l"
      ]
    },
    {
      "cell_type": "code",
      "execution_count": null,
      "metadata": {
        "jupyter": {
          "outputs_hidden": true
        },
        "scrolled": true,
        "id": "GlgozP81oCEj"
      },
      "outputs": [],
      "source": [
        "#Elimina por posición\n",
        "del l[0]\n",
        "del l[0]"
      ]
    },
    {
      "cell_type": "code",
      "execution_count": null,
      "metadata": {
        "jupyter": {
          "outputs_hidden": true
        },
        "scrolled": true,
        "id": "SC8Y-eIroCEk"
      },
      "outputs": [],
      "source": [
        "l"
      ]
    },
    {
      "cell_type": "code",
      "execution_count": null,
      "metadata": {
        "jupyter": {
          "outputs_hidden": true
        },
        "scrolled": true,
        "id": "T_7o29z1oCEl"
      },
      "outputs": [],
      "source": [
        "#lista obtenida a partir de un rango\n",
        "nueva=list(range(6))\n",
        "print(nueva)"
      ]
    },
    {
      "cell_type": "code",
      "execution_count": null,
      "metadata": {
        "jupyter": {
          "outputs_hidden": true
        },
        "scrolled": true,
        "id": "aVag73gOoCEl"
      },
      "outputs": [],
      "source": [
        "nueva[1:3]=[17]\n",
        "nueva"
      ]
    },
    {
      "cell_type": "markdown",
      "source": [
        "Intenta adivinar la ejecución ordenada de la siguiente secuencia."
      ],
      "metadata": {
        "id": "1eg1BxvDtNRJ"
      }
    },
    {
      "cell_type": "code",
      "source": [
        "c=list(\"hola\")"
      ],
      "metadata": {
        "id": "lASnOOFltRgh"
      },
      "execution_count": null,
      "outputs": []
    },
    {
      "cell_type": "code",
      "source": [
        "c"
      ],
      "metadata": {
        "id": "5pIDANfKtRN3"
      },
      "execution_count": null,
      "outputs": []
    },
    {
      "cell_type": "code",
      "source": [
        "t=c[1:3]"
      ],
      "metadata": {
        "id": "YZLjn2kktRJ0"
      },
      "execution_count": null,
      "outputs": []
    },
    {
      "cell_type": "code",
      "source": [
        "t"
      ],
      "metadata": {
        "id": "Sb-qCa3btRGs"
      },
      "execution_count": null,
      "outputs": []
    },
    {
      "cell_type": "code",
      "source": [
        "t[0]"
      ],
      "metadata": {
        "id": "xD2PYeXytRC8"
      },
      "execution_count": null,
      "outputs": []
    },
    {
      "cell_type": "code",
      "source": [
        "t[0]=1\n",
        "t"
      ],
      "metadata": {
        "id": "xynqo1q5tQ_u"
      },
      "execution_count": null,
      "outputs": []
    },
    {
      "cell_type": "code",
      "source": [
        "c"
      ],
      "metadata": {
        "id": "ynJ1qiAdtQ8C"
      },
      "execution_count": null,
      "outputs": []
    },
    {
      "cell_type": "code",
      "source": [
        "c[1:3]=[2]\n",
        "c[1:3]"
      ],
      "metadata": {
        "id": "BiglI9D3tYQR"
      },
      "execution_count": null,
      "outputs": []
    },
    {
      "cell_type": "code",
      "source": [
        "c"
      ],
      "metadata": {
        "id": "p1LnXee4tga5"
      },
      "execution_count": null,
      "outputs": []
    },
    {
      "cell_type": "markdown",
      "metadata": {
        "id": "xFQItE5loCEl"
      },
      "source": [
        "### Tuplas"
      ]
    },
    {
      "cell_type": "code",
      "execution_count": null,
      "metadata": {
        "jupyter": {
          "outputs_hidden": true
        },
        "scrolled": true,
        "id": "1se6Frk_oCEm"
      },
      "outputs": [],
      "source": [
        "t = (0,1,2,3,4,5,6,7,5)"
      ]
    },
    {
      "cell_type": "code",
      "execution_count": null,
      "metadata": {
        "jupyter": {
          "outputs_hidden": true
        },
        "scrolled": true,
        "id": "nxnfYGjdoCEm"
      },
      "outputs": [],
      "source": [
        "t[-1]"
      ]
    },
    {
      "cell_type": "code",
      "execution_count": null,
      "metadata": {
        "jupyter": {
          "outputs_hidden": true
        },
        "scrolled": true,
        "id": "cEXG421hoCEm"
      },
      "outputs": [],
      "source": [
        "dir(t)"
      ]
    },
    {
      "cell_type": "code",
      "execution_count": null,
      "metadata": {
        "jupyter": {
          "outputs_hidden": true
        },
        "scrolled": true,
        "id": "e67I63TAoCEm"
      },
      "outputs": [],
      "source": [
        "t.count(5)"
      ]
    },
    {
      "cell_type": "code",
      "execution_count": null,
      "metadata": {
        "jupyter": {
          "outputs_hidden": true
        },
        "scrolled": true,
        "id": "1N5XR8m8oCEn"
      },
      "outputs": [],
      "source": [
        "#Admite otra forma de representación externa\n",
        "otro= \"hola\",33"
      ]
    },
    {
      "cell_type": "code",
      "execution_count": null,
      "metadata": {
        "jupyter": {
          "outputs_hidden": true
        },
        "scrolled": true,
        "id": "8nZ3OsGAoCEn"
      },
      "outputs": [],
      "source": [
        "print(otro)"
      ]
    },
    {
      "cell_type": "code",
      "execution_count": null,
      "metadata": {
        "jupyter": {
          "outputs_hidden": true
        },
        "scrolled": true,
        "id": "uPdNrr_BoCEn"
      },
      "outputs": [],
      "source": [
        "#Son inmutables !!!\n",
        "otro[0]=\"adiós\""
      ]
    },
    {
      "cell_type": "code",
      "execution_count": null,
      "metadata": {
        "id": "3YsY1lKZoCEn"
      },
      "outputs": [],
      "source": [
        "atomo=4,\n",
        "atomo"
      ]
    },
    {
      "cell_type": "code",
      "execution_count": null,
      "metadata": {
        "id": "m5UTwIsnoCEn"
      },
      "outputs": [],
      "source": [
        "#no es tupla\n",
        "atomo=(4)\n",
        "atomo"
      ]
    },
    {
      "cell_type": "code",
      "execution_count": null,
      "metadata": {
        "jupyter": {
          "outputs_hidden": true
        },
        "scrolled": true,
        "id": "mvHpgzZioCEn"
      },
      "outputs": [],
      "source": [
        "#Introducimos nuestra primera sentencia. Hay implícita una asignación entre tuplas (empaquetado /desempaquetado)\n",
        "a=0\n",
        "b = 1\n",
        "l=[]\n",
        "while a < 100:\n",
        "    a, b = b, a+b\n",
        "    l.append(a)\n",
        "print(l)"
      ]
    },
    {
      "cell_type": "markdown",
      "metadata": {
        "id": "Qw4DIEWRoCEo"
      },
      "source": [
        "### Conjuntos"
      ]
    },
    {
      "cell_type": "code",
      "execution_count": null,
      "metadata": {
        "jupyter": {
          "outputs_hidden": true
        },
        "scrolled": true,
        "id": "vXucYGwZoCEo"
      },
      "outputs": [],
      "source": [
        "#constructor set\n",
        "help(set)"
      ]
    },
    {
      "cell_type": "code",
      "execution_count": null,
      "metadata": {
        "jupyter": {
          "outputs_hidden": true
        },
        "scrolled": true,
        "id": "ixIlccrEoCEo"
      },
      "outputs": [],
      "source": [
        "s= set([1,\"pepe\", [1,2]])"
      ]
    },
    {
      "cell_type": "code",
      "execution_count": null,
      "metadata": {
        "jupyter": {
          "outputs_hidden": true
        },
        "scrolled": true,
        "id": "HnjKjPdSoCEo"
      },
      "outputs": [],
      "source": [
        "s=set([1,\"pepe\"])\n",
        "s"
      ]
    },
    {
      "cell_type": "code",
      "execution_count": null,
      "metadata": {
        "jupyter": {
          "outputs_hidden": true
        },
        "scrolled": true,
        "id": "Iw0Y8wpFoCEo"
      },
      "outputs": [],
      "source": [
        "set('pacoooo')"
      ]
    },
    {
      "cell_type": "code",
      "execution_count": null,
      "metadata": {
        "jupyter": {
          "outputs_hidden": true
        },
        "scrolled": true,
        "id": "ExMptqJDoCEo"
      },
      "outputs": [],
      "source": [
        "list(\"holaa\")"
      ]
    },
    {
      "cell_type": "code",
      "execution_count": null,
      "metadata": {
        "jupyter": {
          "outputs_hidden": true
        },
        "scrolled": true,
        "id": "XCBEHMkGoCEo"
      },
      "outputs": [],
      "source": [
        "c1={'p','q'}\n",
        "c2={'q','p'}\n",
        "c1 ==c2"
      ]
    },
    {
      "cell_type": "code",
      "execution_count": null,
      "metadata": {
        "jupyter": {
          "outputs_hidden": true
        },
        "scrolled": true,
        "id": "qApjDisooCEp"
      },
      "outputs": [],
      "source": [
        "c1|c2 #unión"
      ]
    },
    {
      "cell_type": "code",
      "execution_count": null,
      "metadata": {
        "jupyter": {
          "outputs_hidden": true
        },
        "scrolled": true,
        "id": "9xKX0b0EoCEp"
      },
      "outputs": [],
      "source": [
        "c2=c2|{'l','m'}\n",
        "c2"
      ]
    },
    {
      "cell_type": "code",
      "execution_count": null,
      "metadata": {
        "jupyter": {
          "outputs_hidden": true
        },
        "scrolled": true,
        "id": "qAMx8g66oCEp"
      },
      "outputs": [],
      "source": [
        "c1&c2 #intersección"
      ]
    },
    {
      "cell_type": "code",
      "execution_count": null,
      "metadata": {
        "jupyter": {
          "outputs_hidden": true
        },
        "scrolled": true,
        "id": "yn8bsOK7oCEp"
      },
      "outputs": [],
      "source": [
        "not ('l'in c2) #pertenencia"
      ]
    },
    {
      "cell_type": "code",
      "execution_count": null,
      "metadata": {
        "jupyter": {
          "outputs_hidden": true
        },
        "id": "B4RwX6iNoCEp"
      },
      "outputs": [],
      "source": [
        "dir(set)\n"
      ]
    },
    {
      "cell_type": "markdown",
      "metadata": {
        "id": "2AHlUe4noCEp"
      },
      "source": [
        "### Diccionarios"
      ]
    },
    {
      "cell_type": "code",
      "execution_count": null,
      "metadata": {
        "jupyter": {
          "outputs_hidden": true
        },
        "scrolled": true,
        "id": "ayRHP0QZoCEq"
      },
      "outputs": [],
      "source": [
        "alumno = {\"nombre\":'pepe',\"edad\":23,  \"notas\": [7,8,8]}"
      ]
    },
    {
      "cell_type": "code",
      "execution_count": null,
      "metadata": {
        "jupyter": {
          "outputs_hidden": true
        },
        "scrolled": true,
        "id": "iwLnNzo3oCEq"
      },
      "outputs": [],
      "source": [
        "alumno\n"
      ]
    },
    {
      "cell_type": "code",
      "execution_count": null,
      "metadata": {
        "jupyter": {
          "outputs_hidden": true
        },
        "scrolled": true,
        "id": "bjL3HKGjoCEq"
      },
      "outputs": [],
      "source": [
        "alumno[\"edad\"] #acceso por clave"
      ]
    },
    {
      "cell_type": "code",
      "execution_count": null,
      "metadata": {
        "jupyter": {
          "outputs_hidden": true
        },
        "scrolled": true,
        "id": "laJ2mJoroCEr"
      },
      "outputs": [],
      "source": [
        "dir(alumno)"
      ]
    },
    {
      "cell_type": "code",
      "execution_count": null,
      "metadata": {
        "jupyter": {
          "outputs_hidden": true
        },
        "scrolled": true,
        "id": "9IrXnwphoCEr"
      },
      "outputs": [],
      "source": [
        "alumno.keys()"
      ]
    },
    {
      "cell_type": "code",
      "execution_count": null,
      "metadata": {
        "jupyter": {
          "outputs_hidden": true
        },
        "scrolled": true,
        "id": "zRjVAGMmoCEr"
      },
      "outputs": [],
      "source": [
        "alumno[\"notas\"][2]=7\n",
        "alumno"
      ]
    },
    {
      "cell_type": "code",
      "execution_count": null,
      "metadata": {
        "jupyter": {
          "outputs_hidden": true
        },
        "scrolled": true,
        "id": "a5SRmWDZoCEr"
      },
      "outputs": [],
      "source": [
        "alumno.values()"
      ]
    },
    {
      "cell_type": "code",
      "execution_count": null,
      "metadata": {
        "jupyter": {
          "outputs_hidden": true
        },
        "scrolled": true,
        "id": "4cUA1YSxoCEr"
      },
      "outputs": [],
      "source": [
        "# Seguiremos tratando todos estos tipos de alto nivel. Son esenciales para la programación en Python"
      ]
    },
    {
      "cell_type": "markdown",
      "metadata": {
        "id": "sITrvwifoCEr"
      },
      "source": [
        "Un primer ejemplo de programación"
      ]
    },
    {
      "cell_type": "code",
      "execution_count": null,
      "metadata": {
        "jupyter": {
          "outputs_hidden": true
        },
        "id": "Dr5XeIkQoCEr"
      },
      "outputs": [],
      "source": [
        "l=[]\n",
        "a, b = 0, 1\n",
        "while a < 10:\n",
        "    l.append(a)\n",
        "    a, b = b, a+b\n",
        "print(l)"
      ]
    },
    {
      "cell_type": "code",
      "execution_count": null,
      "metadata": {
        "jupyter": {
          "outputs_hidden": true
        },
        "id": "f9pbza24oCEs"
      },
      "outputs": [],
      "source": [
        "l=set()\n",
        "a, b = 0, 1\n",
        "while a < 10:\n",
        "    l.add(a)\n",
        "    a, b = b, a+b\n",
        "print(l)"
      ]
    },
    {
      "cell_type": "markdown",
      "source": [
        "## Ejercicios"
      ],
      "metadata": {
        "id": "xyyUovK600YW"
      }
    },
    {
      "cell_type": "markdown",
      "source": [
        "**Ejercicio**: utilizando cadenas de caracteres\n",
        "- Determinar si una cadena es un palíndromo utilizando slices\n",
        "- Hacer el ejercicio anterior usando un while\n",
        "- Repetirlo permitiendo espacios para separar y sin distinguir mayúsculas de minúsculas\n"
      ],
      "metadata": {
        "id": "XAnkkWQwrqNa"
      }
    },
    {
      "cell_type": "code",
      "source": [
        "def esPali(cad):\n",
        "  return cad[::-1]==cad\n",
        "\n",
        "esPali(\"abba\")"
      ],
      "metadata": {
        "id": "5P_TD9uz0doc",
        "outputId": "1d802bc8-b235-4fe3-f916-5fca2cf4bc16",
        "colab": {
          "base_uri": "https://localhost:8080/"
        }
      },
      "execution_count": 8,
      "outputs": [
        {
          "output_type": "execute_result",
          "data": {
            "text/plain": [
              "False"
            ]
          },
          "metadata": {},
          "execution_count": 8
        }
      ]
    },
    {
      "cell_type": "code",
      "source": [
        "cadena = \"abba\"\n",
        "def esPali(cad):\n",
        "  k=0\n",
        "  while k<len(cad)/2:\n",
        "    if(cad[k]!=cad[-1-k]):\n",
        "      return \"No es palindromo\"\n",
        "    k=k+1\n",
        "  return \"Es palindromo\"\n",
        "\n",
        "print(esPali(cadena))"
      ],
      "metadata": {
        "id": "RLv3OylKx_bT"
      },
      "execution_count": null,
      "outputs": []
    },
    {
      "cell_type": "code",
      "source": [
        "def esPali(cad):\n",
        "  return cad[::-1].lower().replace(' ','')==cad.lower().replace(' ','')\n",
        "\n",
        "esPali(\"abB a\")"
      ],
      "metadata": {
        "id": "V1ViU6iivvg1",
        "outputId": "087fe0a8-57f7-40f7-aa45-44f51912a563",
        "colab": {
          "base_uri": "https://localhost:8080/"
        }
      },
      "execution_count": 13,
      "outputs": [
        {
          "output_type": "execute_result",
          "data": {
            "text/plain": [
              "True"
            ]
          },
          "metadata": {},
          "execution_count": 13
        }
      ]
    },
    {
      "cell_type": "markdown",
      "source": [
        "**Ejercicio**: Dada una lista de listas no vacías\n",
        "- Construir la lista con los primeros elementos de cada una\n",
        "- Construir la lista de las listas invertidas\n"
      ],
      "metadata": {
        "id": "WUhhxqhaIUcX"
      }
    },
    {
      "cell_type": "code",
      "source": [
        "def listaPrimeros(lista):\n",
        "  return lista[::][0]\n",
        "\n",
        "l = [[1,2,3],[4,5,6]]\n",
        "listaPrimeros(l)\n"
      ],
      "metadata": {
        "id": "v28LWTvVuw-K",
        "outputId": "e05a3534-41ae-4293-ab9c-1a86c7aee052",
        "colab": {
          "base_uri": "https://localhost:8080/"
        }
      },
      "execution_count": 15,
      "outputs": [
        {
          "output_type": "execute_result",
          "data": {
            "text/plain": [
              "[1, 2, 3]"
            ]
          },
          "metadata": {},
          "execution_count": 15
        }
      ]
    },
    {
      "cell_type": "code",
      "source": [],
      "metadata": {
        "id": "uYVbDc2esIiO"
      },
      "execution_count": null,
      "outputs": []
    },
    {
      "cell_type": "markdown",
      "source": [
        "**Ejercicio:** dada una lista de listas no vacías, obtener un diccionario cuya clave sea el primer elemento de cada una y cuyo valor asociado sea su correspondiente \"resto\""
      ],
      "metadata": {
        "id": "Dd_lO1ZkIEiI"
      }
    },
    {
      "cell_type": "code",
      "source": [],
      "metadata": {
        "id": "1_5P8Nhnsc8Q"
      },
      "execution_count": null,
      "outputs": []
    },
    {
      "cell_type": "markdown",
      "source": [
        "**Ejercicio**: Construir, mediante un while, la lista que resulta de eliminar la sublista entre dos posiciones. Hacer una versión directa y destructiva de la misma."
      ],
      "metadata": {
        "id": "1Q5mign6sfBN"
      }
    },
    {
      "cell_type": "code",
      "source": [],
      "metadata": {
        "id": "WgwkZQ9Tsh89"
      },
      "execution_count": null,
      "outputs": []
    },
    {
      "cell_type": "code",
      "source": [],
      "metadata": {
        "id": "GdpUDqOzshxM"
      },
      "execution_count": null,
      "outputs": []
    },
    {
      "cell_type": "markdown",
      "source": [
        "**Ejercicio**: Construir la lista que resulta de ordenar [una lista mediante \"selección\"](https://es.wikipedia.org/wiki/Ordenamiento_por_selecci%C3%B3n). Repetir el ejercicio para el [método de inserción](https://es.wikipedia.org/wiki/Ordenamiento_por_inserci%C3%B3n) (consulta operadores del tipo lista)."
      ],
      "metadata": {
        "id": "hIRMaYLaIB7o"
      }
    },
    {
      "cell_type": "code",
      "source": [],
      "metadata": {
        "id": "Ob13zOG8sdUB"
      },
      "execution_count": null,
      "outputs": []
    },
    {
      "cell_type": "code",
      "source": [],
      "metadata": {
        "id": "lWgkLd_Uv81F"
      },
      "execution_count": null,
      "outputs": []
    },
    {
      "cell_type": "markdown",
      "source": [
        "**Ejercicio**: evaluamos polinomios. Nuestra representación para un polinomio es su lista de coeficientes (la lista [1,0,2] representa el polinomio 1 + 2 x**2). Dada una lista, ``l``, que represente un polinomio, y un valor para ``x``, obtén el valor de evaluar el polinomio en ``x``."
      ],
      "metadata": {
        "id": "30THOn0-H_PY"
      }
    },
    {
      "cell_type": "code",
      "source": [],
      "metadata": {
        "id": "c5POmBUSzzlP"
      },
      "execution_count": null,
      "outputs": []
    },
    {
      "cell_type": "markdown",
      "source": [
        "# Entrega\n",
        "Recuerda guardar este notebook en tu repositorio de GitHub."
      ],
      "metadata": {
        "id": "2JdzvRMQH9Xh"
      }
    },
    {
      "cell_type": "code",
      "source": [],
      "metadata": {
        "id": "jBTMrR_XH9v2"
      },
      "execution_count": null,
      "outputs": []
    }
  ],
  "metadata": {
    "kernelspec": {
      "display_name": "Python 3 (ipykernel)",
      "language": "python",
      "name": "python3"
    },
    "language_info": {
      "codemirror_mode": {
        "name": "ipython",
        "version": 3
      },
      "file_extension": ".py",
      "mimetype": "text/x-python",
      "name": "python",
      "nbconvert_exporter": "python",
      "pygments_lexer": "ipython3",
      "version": "3.8.10"
    },
    "colab": {
      "provenance": [],
      "include_colab_link": true
    }
  },
  "nbformat": 4,
  "nbformat_minor": 0
}